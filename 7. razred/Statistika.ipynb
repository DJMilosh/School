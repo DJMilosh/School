{
  "nbformat": 4,
  "nbformat_minor": 0,
  "metadata": {
    "colab": {
      "provenance": []
    },
    "kernelspec": {
      "name": "python3",
      "display_name": "Python 3"
    },
    "language_info": {
      "name": "python"
    }
  },
  "cells": [
    {
      "cell_type": "markdown",
      "source": [
        "# Mjerenja variraju\n",
        "\n",
        "Recimo da mjerimo nečija bacanja udalj. Svako bacanje će dati neku drugu udaljenost. Zanima nas nekakva \"srednja\" udaljenost do koje se osoba može dobaciti. Nadalje, zanima nas koliko su bacanja \"raspršena\", odnosno koliko osoba konzistentno baca (je su li sva bacanja usko grupirana oko neke udaljenosti ili se znatno razlikuju jedno od drugog)."
      ],
      "metadata": {
        "id": "dQV3QKaTxMjc"
      }
    },
    {
      "cell_type": "code",
      "execution_count": null,
      "metadata": {
        "id": "TReEr2ecc-Sa",
        "colab": {
          "base_uri": "https://localhost:8080/"
        },
        "outputId": "7a916ae4-a3f2-4364-fffb-66d805224951"
      },
      "outputs": [
        {
          "output_type": "stream",
          "name": "stdout",
          "text": [
            "[15.715544796546505, 15.487050342932907, 15.09717469409925, 14.5535255796626, 15.546388029880704, 14.830208496800813, 15.768904357812602, 14.852791565216187, 15.051209232543574, 14.99836341564488, 15.004085367067812, 15.45170044072928, 15.166695412823044, 15.444288814971449, 15.695055984956571, 15.52285422591205, 14.686351087939903, 15.324239273579362, 14.586052615893916, 15.186248449772897]\n"
          ]
        }
      ],
      "source": [
        "#Generiramo mjerenja; x je lista koja sadrži sva mjerenja\n",
        "import numpy as np\n",
        "\n",
        "x=[] #za početak lista mjerenja je prazna\n",
        "\n",
        "#parametri po kojima ćemo generirati podatke\n",
        "srednja_vrijednost_stvarna=15\n",
        "greska_stvarna=0.5\n",
        "broj_mjerenja=20\n",
        "\n",
        "\n",
        "#Dodaj slučajni broj u listu mjerenja\n",
        "for i in range(broj_mjerenja):\n",
        "  x.append(np.random.normal(srednja_vrijednost_stvarna, greska_stvarna))\n",
        "\n",
        "print(x)"
      ]
    },
    {
      "cell_type": "code",
      "source": [
        "#Vizualiziramo mjerenja\n",
        "\n",
        "import matplotlib.pyplot as plt\n",
        "\n",
        "#sva mjerenja crtamo na x osi, dakle y koordinate su sve 0; y je lista nula iste dužine kao x\n",
        "y=np.zeros_like(x)\n",
        "\n",
        "#ucrtaj mjerenja\n",
        "plt.scatter(x, y, marker='.')\n",
        "\n",
        "lim=3 #crtamo interval od srednja vrijednost-lim do srednja vrijednost + lim\n",
        "plt.xlim(srednja_vrijednost_stvarna-lim,srednja_vrijednost_stvarna+lim)\n",
        "plt.yticks([])\n",
        "\n",
        "\n",
        "#prikaži graf\n",
        "plt.show()\n"
      ],
      "metadata": {
        "colab": {
          "base_uri": "https://localhost:8080/",
          "height": 430
        },
        "id": "ZFBS9pmtlO_g",
        "outputId": "fc2aac0c-0dc4-402e-b3a8-484a77861946"
      },
      "execution_count": null,
      "outputs": [
        {
          "output_type": "display_data",
          "data": {
            "text/plain": [
              "<Figure size 640x480 with 1 Axes>"
            ],
            "image/png": "[encoded data removed]"
          },
          "metadata": {}
        }
      ]
    },
    {
      "cell_type": "markdown",
      "source": [
        "# Mjera centriranosti podataka\n",
        "**Srednja vrijednost** (za 5 mjerenja): $$\\overline{x}=\\frac{x_1+x_2+x_3+x_4+x_5}{5}$$\n",
        "\n",
        "Ovo je isti postupak kada računate prosjek ocjena - zbroji sve ocjene i podijeli s brojem ocjena.\n"
      ],
      "metadata": {
        "id": "-XHiiekynO2e"
      }
    },
    {
      "cell_type": "code",
      "source": [
        "#Srednja vrijednost\n",
        "srednja_vrijednost=sum(x)/broj_mjerenja\n",
        "\n",
        "print(srednja_vrijednost)"
      ],
      "metadata": {
        "colab": {
          "base_uri": "https://localhost:8080/"
        },
        "id": "tzIXg3sBdwih",
        "outputId": "9bb99a3a-e0ef-48e0-be83-75490d3eb169"
      },
      "execution_count": null,
      "outputs": [
        {
          "output_type": "stream",
          "name": "stdout",
          "text": [
            "15.198436609239314\n"
          ]
        }
      ]
    },
    {
      "cell_type": "code",
      "source": [
        "#Vizualiziramo srednju vrijednost\n",
        "\n",
        "import matplotlib.pyplot as plt\n",
        "\n",
        "#sva mjerenja crtamo na x osi, dakle y koordinate su sve 0; y je lista nula iste dužine kao x\n",
        "y=np.zeros_like(x)\n",
        "\n",
        "#ucrtaj mjerenja\n",
        "plt.scatter(x, y, marker='.', color='tab:blue')\n",
        "\n",
        "#ucrtaj srednju vrijednost\n",
        "plt.scatter(srednja_vrijednost,0, marker='x', color='tab:red')\n",
        "\n",
        "lim=3 #crtamo interval od srednja vrijednost-lim do srednja vrijednost + lim\n",
        "plt.xlim(srednja_vrijednost_stvarna-lim,srednja_vrijednost_stvarna+lim)\n",
        "plt.yticks([])\n",
        "\n",
        "# prikaži graf\n",
        "plt.show()\n"
      ],
      "metadata": {
        "colab": {
          "base_uri": "https://localhost:8080/",
          "height": 430
        },
        "id": "rM58PukA5cb8",
        "outputId": "6ceee489-051b-41e0-e04c-15c026a6e842"
      },
      "execution_count": null,
      "outputs": [
        {
          "output_type": "display_data",
          "data": {
            "text/plain": [
              "<Figure size 640x480 with 1 Axes>"
            ],
            "image/png": "[encoded data removed]"
          },
          "metadata": {}
        }
      ]
    },
    {
      "cell_type": "markdown",
      "source": [
        "# Mjere raspršenosti podataka\n",
        "\n",
        "\n",
        "Apsolutna greška prvog mjerenja $$A_1=\\lvert x_1 - \\overline{x} \\rvert $$\n",
        "\n",
        "kaže koliko je prvo mjerenje udaljeno od srednje vrijednosti.\n",
        "\n",
        "\n",
        "**Maximalna apsolutna greška** $\\sigma_{max}$ je, kao što sami naziv kaže, apsolutna greška onog mjerenja koje najviše odstupa od srednje vrijednosti.\n",
        "Za dani skup podataka, to možemo shvatiti kao \"worst case scenario\" (najgori mogući slučaj, najveće odstupanje). To je dakle interval centriran na srednjoj vrijednosti unutar kojeg se nalaze sva ostala mjerenja.\n",
        "\n",
        "\n",
        "**Srednja apsolutna greška** za 5 mjerenja (L1 greška): $$σ_{1}=\\frac{A_1+A_2+A_3+A_4+A_5}{5}$$\n",
        "kaže koliko su mjerenja u prosjeku udaljena od srednje vrijednosti.\n",
        "\n",
        "\n",
        "\n",
        "\n",
        "---\n",
        "\n",
        "\n",
        "\n",
        "Kvadrat greške prvog mjerenja: $$K_1=\\lvert x_1 - \\overline{x} \\rvert^2=(x_1 - \\overline{x})^2$$\n",
        "\n",
        "u odnosu na apsolutnu grešku stavlja nešto veći naglasak na \"outliere\", tj. mjerenja koja se znatno razlikuju od srednje vrijednosti.\n",
        "\n",
        "**Srednja kvadratna greška** za 5 mjerenja (L2 greška): $$\\sigma_2=\\sqrt{\\frac{K_1+K_2+K_3+K_4+K_5}{5}}$$\n",
        "\n",
        "Bitno za primijetiti: ako su nam mjerenja (x-evi) udaljenosti iskazane u m, onda je svaki $K_1, K_2...$ iskazan u $\\text{m}^2$. Uzimamo korijen da bismo ponovno dobili grešku u m.\n",
        "\n",
        "Srednja kvadratna greška je standardna mjera \"raspršenost\" podataka, stoga je još zovemo **standardna devijacija** i pišemo samo $\\sigma$.\n",
        "\n",
        "\n",
        "\n",
        "---\n",
        "\n",
        "\n",
        "\n",
        "Općenito bismo mogli promatrati p-tu potenciju greške prvog mjerenja $$E_1=\\lvert x_1 - \\overline{x} \\rvert^p $$\n",
        "za bilo koji broj pozitivni broj p\n",
        "\n",
        "potom bismo računali srednju Lp grešku kao p-ti korijen: $$\\sigma_p=\\sqrt[p]{\\frac{E_1+E_2+E_3+E_4+E_5}{5}}$$"
      ],
      "metadata": {
        "id": "LJI_2ng4nmhB"
      }
    },
    {
      "cell_type": "code",
      "source": [
        "#Greška\n",
        "apsolutne_greske=[abs(mjerenje-srednja_vrijednost)for mjerenje in x]\n",
        "kvadrati_greske=[(mjerenje-srednja_vrijednost)**2 for mjerenje in x]\n",
        "\n",
        "maksimalna_apsolutna_greska=max(apsolutne_greske)\n",
        "srednja_apsolutna_greska=sum(apsolutne_greske)/broj_mjerenja\n",
        "srednja_kvadratna_greska=np.sqrt(sum(kvadrati_greske)/broj_mjerenja) #aka standardna devijacija\n",
        "\n",
        "print(maksimalna_apsolutna_greska, srednja_apsolutna_greska, srednja_kvadratna_greska)"
      ],
      "metadata": {
        "colab": {
          "base_uri": "https://localhost:8080/"
        },
        "id": "nVkyMjapfLym",
        "outputId": "a24a78e2-88fa-4f68-ec67-6eae52d5cb33"
      },
      "execution_count": null,
      "outputs": [
        {
          "output_type": "stream",
          "name": "stdout",
          "text": [
            "1.30734376363527 0.42021352245404653 0.5200465268018057\n"
          ]
        }
      ]
    },
    {
      "cell_type": "code",
      "source": [
        "#Vizualiziramo maksimalnu apsolutnu grešku\n",
        "\n",
        "import matplotlib.pyplot as plt\n",
        "\n",
        "#sva mjerenja crtamo na x osi, dakle y koordinate su sve 0; y je lista nula iste dužine kao x\n",
        "y=np.zeros_like(x)\n",
        "\n",
        "#ucrtaj podatke\n",
        "plt.scatter(x, y, marker='.', color='tab:blue')\n",
        "\n",
        "#ucrtaj srednju vrijednost\n",
        "plt.scatter(srednja_vrijednost,0, marker='x', color='tab:red')\n",
        "\n",
        "#ucrtaj interval maskimalne apsolutne greške\n",
        "plt.scatter([srednja_vrijednost-maksimalna_apsolutna_greska, srednja_vrijednost+maksimalna_apsolutna_greska], [0,0], marker='|', color='tab:red')\n",
        "\n",
        "\n",
        "lim=3 #interval koji crtamo je od srednja vrijednost-lim do srednja vrijednost+lim\n",
        "plt.xlim(srednja_vrijednost_stvarna-lim,srednja_vrijednost_stvarna+lim)\n",
        "plt.yticks([])\n",
        "\n",
        "#prikaži graf\n",
        "plt.show()\n"
      ],
      "metadata": {
        "colab": {
          "base_uri": "https://localhost:8080/",
          "height": 430
        },
        "id": "BrAzopxN6MmW",
        "outputId": "ea726541-93e3-4d92-8704-12e894027f36"
      },
      "execution_count": null,
      "outputs": [
        {
          "output_type": "display_data",
          "data": {
            "text/plain": [
              "<Figure size 640x480 with 1 Axes>"
            ],
            "image/png": "[encoded data removed]"
          },
          "metadata": {}
        }
      ]
    },
    {
      "cell_type": "code",
      "source": [
        "#Vizualiziramo srednju apsolutnu grešku\n",
        "\n",
        "import matplotlib.pyplot as plt\n",
        "\n",
        "#sva mjerenja crtamo na x osi, dakle y koordinate su sve 0; y je lista nula iste dužine kao x\n",
        "y=np.zeros_like(x)\n",
        "\n",
        "#ucrtaj podatke\n",
        "plt.scatter(x, y, marker='.', color='tab:blue')\n",
        "\n",
        "#ucrtaj srednju vrijednost\n",
        "plt.scatter(srednja_vrijednost,0, marker='x', color='tab:red')\n",
        "\n",
        "#ucrtaj interval srednje apsolutne greške\n",
        "plt.scatter([srednja_vrijednost-srednja_apsolutna_greska, srednja_vrijednost+srednja_apsolutna_greska], [0,0], marker='|', color='tab:red')\n",
        "\n",
        "\n",
        "lim=3 #interval koji crtamo je od srednja vrijednost-lim do srednja vrijednost+lim\n",
        "plt.xlim(srednja_vrijednost_stvarna-lim,srednja_vrijednost_stvarna+lim)\n",
        "plt.yticks([])\n",
        "\n",
        "#prikaži graf\n",
        "plt.show()\n"
      ],
      "metadata": {
        "colab": {
          "base_uri": "https://localhost:8080/",
          "height": 430
        },
        "id": "eBY9YYPL60SH",
        "outputId": "502d6a04-79ab-492c-b4c9-254b48c4cfcd"
      },
      "execution_count": null,
      "outputs": [
        {
          "output_type": "display_data",
          "data": {
            "text/plain": [
              "<Figure size 640x480 with 1 Axes>"
            ],
            "image/png": "[encoded data removed]"
          },
          "metadata": {}
        }
      ]
    },
    {
      "cell_type": "code",
      "source": [
        "#Vizualiziramo srednja kvadratnu grešku (standardnu devijaciju)\n",
        "\n",
        "import matplotlib.pyplot as plt\n",
        "\n",
        "#sva mjerenja crtamo na x osi, dakle y koordinate su sve 0; y je lista nula iste dužine kao x\n",
        "y=np.zeros_like(x)\n",
        "\n",
        "#ucrtaj podatke\n",
        "plt.scatter(x, y, marker='.', color='tab:blue')\n",
        "\n",
        "#ucrtaj srednju vrijednost\n",
        "plt.scatter(srednja_vrijednost,0, marker='x', color='tab:red')\n",
        "\n",
        "#ucrtaj interval srednje kvadratne greške\n",
        "plt.scatter([srednja_vrijednost-srednja_kvadratna_greska, srednja_vrijednost+srednja_kvadratna_greska], [0,0], marker='|', color='tab:red')\n",
        "\n",
        "\n",
        "lim=3 #interval koji crtamo je od srednja vrijednost-lim do srednja vrijednost+lim\n",
        "plt.xlim(srednja_vrijednost_stvarna-lim,srednja_vrijednost_stvarna+lim)\n",
        "plt.yticks([])\n",
        "\n",
        "#prikaži graf\n",
        "plt.show()\n"
      ],
      "metadata": {
        "colab": {
          "base_uri": "https://localhost:8080/",
          "height": 430
        },
        "id": "wppRm1RS681e",
        "outputId": "9a90486a-4a98-4def-c227-3329439c9f88"
      },
      "execution_count": null,
      "outputs": [
        {
          "output_type": "display_data",
          "data": {
            "text/plain": [
              "<Figure size 640x480 with 1 Axes>"
            ],
            "image/png": "[encoded data removed]"
          },
          "metadata": {}
        }
      ]
    },
    {
      "cell_type": "markdown",
      "source": [
        "Jednom kada odaberemo mjeru raspršenosti koju ćemo koristiti (gotovo uvijek je to standardna devijacija), rezultat zapisujemo u obliku $x=\\overline{x}\\pm \\sigma$\n",
        "\n",
        "Dakle:"
      ],
      "metadata": {
        "id": "mDmOAWy52xH8"
      }
    },
    {
      "cell_type": "code",
      "source": [
        "from IPython.display import display, Markdown, Latex\n",
        "\n",
        "#zaokružimo na dvije decimale\n",
        "srednja_vrijednost=round(srednja_vrijednost,2)\n",
        "srednja_kvadratna_greska=round(srednja_kvadratna_greska,2)\n",
        "\n",
        "text = '$x=' + str(srednja_vrijednost) + '\\pm' + str(srednja_kvadratna_greska) + '$'\n",
        "display(Markdown(text))"
      ],
      "metadata": {
        "id": "CdjuNjY24oPm",
        "colab": {
          "base_uri": "https://localhost:8080/",
          "height": 50
        },
        "outputId": "0469aa51-4f75-46f9-baed-47f9a291fc62"
      },
      "execution_count": null,
      "outputs": [
        {
          "output_type": "display_data",
          "data": {
            "text/plain": [
              "<IPython.core.display.Markdown object>"
            ],
            "text/markdown": "$x=15.05\\pm0.52$"
          },
          "metadata": {}
        }
      ]
    },
    {
      "cell_type": "markdown",
      "source": [
        "Ako je $\\sigma$ standardna devijacija, a imamo $N$ mjerenja, izračunamo tzv. standardnu grešku (standard error) $SE=\\frac{\\sigma}{\\sqrt{N}}$.\n",
        "Sada interval $\\overline{x}\\pm SE$ ima relativno lijepu interpretaciju.\n",
        "\n",
        "Recimo da smo napravili puno mjerenja i izračunali srednju vrijednost.\n",
        "Možemo ponoviti mjerenja i ponovno (za novi set mjerenja) izračunati srednju vrijednost. Zamislimo da ovaj postupak ponovimo puno puta.\n",
        "U tom slučaju oko 68% puta će srednja vrijednost biti u gornjem intervalu.\n",
        "\n",
        " S druge strane, ako uzmemo  $\\overline{x}\\pm 2SE$ (duplo veći interval), onda će oko 95% puta biti unutar tog intervala, za $3SE$ već dobijemo preko 99%.\n",
        "Vidi https://en.wikipedia.org/wiki/68%E2%80%9395%E2%80%9399.7_rule\n",
        "\n",
        "Veći interval naravno znači veća sigurnost (izglednije je da za prosječni skup mjerenja srednja vrijednost upada unutar tog intervala).\n",
        "\n"
      ],
      "metadata": {
        "id": "rX8ar1kRRK9z"
      }
    },
    {
      "cell_type": "markdown",
      "source": [
        "Inače (čisto da spomenemo), ovo vrijedi zbog tzv. centralnog graničnog teorema, koji kaže da će (za vrlo velik broj mjerenja) srednja vrijednost pratiti tzv. Gausssovu (ili normalnu) distribuciju sa standardnom devijacijom $\\frac{\\sigma}{\\sqrt{N}}$. Vidi https://en.wikipedia.org/wiki/Central_limit_theorem. Gornje vjerojatnosti onda proizlaze iz normalne distribucije https://en.wikipedia.org/wiki/Normal_distribution."
      ],
      "metadata": {
        "id": "efl30Klrh75h"
      }
    },
    {
      "cell_type": "markdown",
      "source": [
        "# Značajne znamenke\n",
        "\n",
        "U stvarnosti nemamo savršene mjerne instrumente, tj. nećemo dobiti rezultat mjerenja $x_1=15.097334039587636$m, već sami mjerni instrument (metar koji koristimo) ima neku svoju nepreciznost. Primjerice, možda metar koji koristimo ne može razlučiti milimetre, tj. na sebi ima samo označene centimetre (i ništa između). U tom slučaju možemo jedino znati da je udaljenost $15.09$m i \"još malo\". Drugim riječima, sa metra možemo iščitati 15m i 9cm, no ne možemo iščitati milimetre - znamo da je duljina između 15m i 9 cm te 15m i 10cm, ali ne znamo točno kolika.\n",
        "\n",
        "\n",
        "Dakle, sama mjerenja ćemo dobiti u obliku $15.09\\pm 0.01$ (duljina je 15m i 9cm i eventualno jedan centimatar gore-dolje)."
      ],
      "metadata": {
        "id": "_pVuvcnjA8IT"
      }
    },
    {
      "cell_type": "markdown",
      "source": [
        "![Ruler cm markings LSE.png](data:image/png;base64,iVBORw0KGgoAAAANSUhEUgAAAiYAAAC8CAYAAABMrGVKAAABImlDQ1BpY20AACiRY2BgUkgsKMhhEmBgyM0rKQpyd1KIiIxSYH/OwM4gyyDIIMSgk5hcXOAYEODDAAQwGhV8u8bACKIv64LMmmK87VyMxYZ2gempF7elfDbFVI8CuFJSi5OB9B8gzk4uKCphYGDMALKVy0sKQOweIFskKRvMXgBiFwEdCGRvAbHTIewTYDUQ9h2wmpAgZyD7A5DNlwRmM4Hs4kuHsAVAbKi9ICDomJKflKoA8r2GoaWlhSYBN5MMSlIrSkC0c35BZVFmekaJgiMwpFIVPPOS9XQUjAyMjBkYQOEOUf05EByejGJnEGIIgBCbI8HA4L+UgYHlD0LMpJeBYYEOAwP/VISYmiEDg4A+A8O+OcmlRWVQYxiZgHYS4gMA0ldSpGKRyY4AAAAGYktHRAD/AP8A/6C9p5MAAFxcSURBVHja7b13uG5bWZ/9G2X2t6612ylUAUEUURQBJbF3Ew3GRizR+KmxJJZoNJ+fMfZETdTYErGhUdFEjRUNRgUUY0dsCMrhtF1WecvsZYzvj2e8E/Ds/c65zyGsdfC5r8tL3Wvtted7733mHHOM5/k9wlprwTAMwzAMcw6QZ30BDMMwDMMwO3hhwjAMwzDMuYEXJgzDMAzDnBt4YcIwDMMwzLmBFyYMwzAMw5wbeGHCMAzDMMy5gRcmDMMwDMOcG3hhwjAMwzDMuYEXJgzDMAzDnBt4YcIwDMMwzLmBFyYMwzAMw5wb9NhvvPe+a/jW7/zRs75ehmEexTz7WU/HJ37sh5z1ZTAMc44ZvWOy2mzx87/8CgAGSgGBryCFgdYCSgECBkoCnifheRJKAUoCWu3+R6AsM1jbQkkLz5Ooqhx1VQC2g4ABbAutBTwtoBX9XK0ElAT9WUrA9xU8T0IIg66r6c8WBnVdQAhDf7YEPE9BSgMp6HphO8B28DwJrUV/HVoLCBhY08LTAp4n4XsKvq8ghIHparRNCWMaSGnpOtGhqQsU+RZSWAS+goBB05To2hoC5AXooN2fbboGQAdPy/4aPOfuIS7dZx3rUisgz7Zo2woCI1w6/74vx7sUBlJaKCXGufQkPI/+vsa4rKq8/7zWtoMud9fneZJcjXGp6fMrNdYlXd9ol1rAmma0SyktrG0hhYXvqVEuPS0B26Ib6dKY5vZcus+olRjtUin6715Ku9flH776L/DHf/JXZ33PYxjmnDN6x2THF33ex2E+myAIApyeniJJJhACqKoKpuugtILnBbDWABaAoN8nhMB6tUIUx+jaDn7gY7U6hTEWvu/D93wAQBiGaJoGddNAKYn5bIZtmkIIgTAI4PkeirxA23XQWqNrO2y2GxRFgTiOcbBc9n9slmXIiwIHBweoqwrWWkymUxhjUBYl2q4FLBCEAZRS8DwP680aURCh7Vr3uWoAgOk6aM9DU9cIggBlVSHPc1y5cgekEFitV7DWQikFpTQuXDjE6nQFIQWUVKjqCtYaxHECrTWstWiaBkqph7osKxhDf57W3qBLz/dw/fp1hGEErRU87e11KYVEksQw1qIsSxhjBl1uNls0bYtLFy8gTdNBl0opbLdbxFGMpm0GXTZNizuuXEGeZ8jyHAD2uhQAkskUgIUQAnVd73Xp+T59xq6DEKL/97zPpe9pKKUBWIRhNOiyKHIIISGlHOXy8GCJLMvgeT6iOELXdXtdRmGErmthTIe67SBGuEyzDFprGGPgef6gSwCoqwpBGEJrPcKlhLUGSil0XYftZnNLl1/3zbzjyjDMMLe9MOnarr9hVVWJMAwhpYSSEkVRwJYG0xndTJu2gTEdBCS01vCDAADg+R5uXL8BP/BhTYvADyAVfc/R8RGSJHE3XYM0y1AUBQToQdUZg7ppAADGdDg5PYGAwB1XrsBYi6quMZvNcOPGDUhJDwnf9+H7PuqqRtd16NoOUkqEXkifqeuQZRmkkGiaBqEfIt2mmM/n/SKqbVqUZQUlJYSUmCQTuk4B5HkGYwzCIOgXHev1GlVdwlpgOp1ACIE4ngDWoqoqNH/rQfrmLoUAsjyHpzWSyWTQ5fHREcIwhDUdwiABBPa6VEpCaQUpJaqqhlJy0KWQAlIK+EGAiRCDLq210EqjM90ol0II1E2NoiwBaxEMuozRNLTQybMMQRDsdRl2HeIkAQC0bTvKpe8nkFJAqXEuy6LEZDpFXVdYrdaDLsMoAoRA13bouhZts99l0zSo6gphEKBt6DMOuZRCIPB9QAhghMuiyBGFMaSSo1w2TQ1rLdq2hed5e13izRaEDMMwt+K2FyZt2+DBBx+E73mYJBPA0oLB930YQw/d3f9f5DmKskQcRWhaehtTSqFrO1y4eAECwHqzcW/sCmEQYjFfYL1Zw3QGk0mCtm0RRRGMMVBSoawKWAtYawGrMJlMICCgtEZdFCjc/3Rdh8mEdna6ztBbZl1BSAkpJMIopEVCTQ9YpRSiMAIEEEURAEAqiSDwobUHEQoIISCkhHYPItMZNHUNCIHA3ZCFEEgmE6TbLaIopod/WaMzHX1dStimQZJMsE23N3XpeR6apu13YIZcXrx0EVVVoyxK2mnReq9LAXo4a6VgjKHnxYDL6XSKKIxQVRXath10GQQBAj+A9jQExKDLru3Q1DU8T8NqPehSCAEBoOsMDg4OsVqv9roUUsDzfBjTIc9y1E09wqWB5wUIo3Eu266DsQZSjnNZ1zVatwsj22GXUknoUgMCtHs4xqUB2q5DFIYIwnDQ5Ww2x/HJMU5OT0a5TLcpjO0QhTHqut7rktclDMOM4ba7cpTSaJsWTdNCKQ1jDay1/e5EZ+gtrygKaM9DEIZo2hZpmkJAoKoq+l4hIZXCcrGEMR3CKEZZlqjrGnleoKorAIAfBKjKClprCClQlhXSbYqiKFA3Deq6hh/4qKoKZVEijmPUVQ3P87BZb1C5t8aqrFCUJYqiQNs2UFLBAlivV6iqClEYAgLI0hRFnkP7HrabLSyAznSQSkIphbIsUFV0bRC0+W1Mh6qqkOUFyqqCMQaT6ZS25ssSQUhv85v1Gk1do6pqrDdraH0Ll0JCCIG2bUa5FJAIgqB/YA65VG4bvihLbDebUS7X6zXtMgg5yqUxHbZb8j/WpbEWTdOiqspBl+v1CgCw2WyQ5emgy6aukaZbtG0LP/BHuaQjnBCbzWaUy/V6g7ZuUVfVKJfG0FFaURQoR7hs2xYWQLpNodxu1JDLsipRFCUKd2Q35LKqKmilUZXlOJehD98PkOUZ8jzf61Kr234PYhjm7yC3vTCJ4wiXL1/CdEb1BfRGDKTbLaq6QhRFKIoCgIU1FrPpzN1cDdquhTEGFhZCChRFjq7r0LQt2rbBerNGmm5x8eIFRFFEN/22hYVFmqb9MdJmu6Eah0mCg4MDhEGIqqzQdbTLkLidEs+nh3lVV1Cadh4CP+gXBmVJW9pVVWGbpsiyFH4Q0FtuVaHrOtRVBWMsYIGuo+3q3bm/MRabzYYejlmGqTt2oYdYjrZpkOc5PO2hrmpUdQ2Ats6v37hxa5fpFkrREdQYlxBUT2MMbamPcel7vltMZaNc+r4PP/CRZ9kol0VRIk5iSDXOZdt2ODk5QbrdoiyrQZdlSXUQnu/hb95wz6BLgOpQrKF6nVEuuw5VXeH09HSUy7ZpAFDtzRiXdVVBaw++5yOMokGXSipUVYm6qVHX41x2XYf5bAoLO8rl9Rs3cHBwgEsjXSqhsJgv4HsemqbZ69JYe9b3O4ZhHgXc9iuMdW9is/kceZaibVpAKVf3IehIJIrQth1msxndrNoWhwcHMMagMwaB76MoS/h+gLqit86joyPEcYw4iiCVxHQ2RZmXgADiOHZn7QZhGOLypUvwfB9FUUIKqo+o6gpa0VZ2XZeQUmC5WMAYC+1pXL16FbPpFEIIdFYjiiJsNxs69ggDhEGIuqY3VgDYblNMJgl830ee5eisQdcZegj4PkzXwfc05rM5hBS9m9lkhu12C6WoPqTtOqw3a9R17WoPVrhyxxVcuXwF1uCmLqu6gedpRHEEY+2gy7KqEAQBmqaBkHLQZVmU0J5GFIa4cuWKWwDtdzmfzQEIJJMYDz447JLqGxSs6Ua5DMMAy8UCQfim+op9Loui6GtXAAy6nEwn2Gw2tPBUyi3g9rts2xYnJydUuGrtoMvLVy5Dex7Vnkg16FJIgSLLEccJlFbQ/n6XbdugKEocLA+gtBrlUgiBrutweHCIzWYz6HJXi2U6i/liMcplVZXwPA8X4nivy7Is6biUYRhmD7e9Y1LXDYqyQFWVKKuStqLLElJKwFqsVitIIfob0a64kKr3gbIoIIREkRfo2hZxEmM5nyPwfSRJgiiO0bYd8jRHEATYbrfo2g6TJEHdNOi6DkkyQde29GcpCSFoy3h5cECdQVIiiRNaaGiF7XaDruvgBwGsBXzPh5QS991/PxVYGirqi5MEURy5WoAWXdugripIJREnCYKQuh7KsoSxFsZaKjLMC3qzVBpZmmG1WrndINoCFwAmkwkW8yWC0EdZlJhOJ65A8aEulaJCytVqPdqllBKz6RSLES6DMEBZllBaYzLSZdu2kErg6OholMvFfAELizzPR7nc7Zy9ebHnPpfLxQLWGtRVjQsXLgy6pOJmgaosUVX1KJeTyQS+52E6m45yGYURttsNNpvtKJer01MoreH51BE15DLLMgAWbdvQcckIl0IIWGORpekol9PpFEVZoKzKUS7ruoEfBFQ7NOBSSi4yYRhmmNtemEgpkMQJTk5OoZWmI42uQxRFSCYJoiiEkO7cuyjRNq2rJ5FIJgksgLKiM3etPQACeV7g8PACrLUoigJSCMzmMwRh0P/vOEkQhiGKosDVa1dRlCUmyQRVSTfPxtVIeJ4Pz/dhYftFhlIai8Uc1tBbr+8HqOsKj3nMYyClQmc6t/Xu962zly5dgpSaCgejyBXbAp7nwdMasBZ1VQHWwsLi+PgYFhad6dyiqEZVlbSLMp9Daw3P9zCdzmGMQV3XVNx5E5fTyQTT2RRSinEukxgCAk3boqyqQZdJklC3TJri2vVxLj3fQ57liKJ4lEspBaSUo11WZYkwCJGmKU5OTgZdRnEM3w9gYahra8ClEAKe51FdR1GMcgkAhxcuIM+KUS5PTk8AS8edY1wmkwkmkwm6zkAIMejS831cvnQZXdfBWjvK5Wp1Ct/tXoxxWRa0qxGF4SiXVVnAGipUVlrtdRm63TCGYZh93PbCJC8KeL4HIShnoW5qNG2LyuWEhEGEwPf7Tpo8z9E0DRXGdm8qjN3d3Gi7/Bh1U7sivhJlVdHXmgbz2Rx1XVObY1VhsVjgwoULVOMQBojimAof2xZ5lsPzfXieh6qscHJyAt/3oaREEIQoa9p1EALwNOWmJEkM3/P6bfIb128AQF8gaK2lRUFLXTUXDg+xWC4BCGjtIQxDeNrrsya01gijEEmc9Gf+ANA0DZqmAayFsQaVy0G5mcuyoh2oJJmMcqmkgtYaeZ7j+GjY5WazgVYahweHWC4PRrlMt1skcQJjzCiXeVHg6OiIijRHuPQ8j+o3JB17DLnsug7GUAfMdrMddBlHMcIwgud56Lp2lMvT01PAUnfWGJfT6RS++/sa41K6RWfb0s7ekEutNPIih7XUCTTGJSywcRkoY1yuN2s0beOOgYZd1k2DIs/7DrJ9LrvOnPX9jmGYRwG3vTBpasotmM/mEEIiCkJEUQxrDMqyhFSSjjlMh9V6hbzIIaREU9P2866N0loDz/eoQ0fRcUtd1wjDsH+z0lpTPkRZYrvdwhjjtrMBrShIzPd9xHGM6XRKxXXuzD0vciipsFmv0bYt3YylQlM3VLDo+1gsFihdrYuUCqerU1Q1PXwEBJSSsG4hAUstxxZAUzfI8gx+4ENIiaoqKWDOLR42mw0sqFNpkkwghXQttnV/c4elYsSbuWyb1r1le6NcCgEoj95sIcWgy90Wf5ZTcN0Yl8ZanJ6eQLmH6ZDLk5MT95Y/1mWApm3QtE0f+rbPZVVRUamr7hl0KZWEkAJZnmG92YxyaYzBerOijJoRLo0xCKOob/EecrmrPREQI11S67WF7Re4Qy6LskTT1GjaZpRL6xbNUspRLtM0Rd3UMNa43Zhbu2xd/hDDMMw+brv4NQxp+1hIIPB92inYbFFWJbquQxiEfa7DlctXUFUl2rZB4Ado6gYHywMURQlrDU6OT6A9jcuXL6NtW2y3W8xmMwDAPffcg9lshoODg/5GGYYhsiyH1pSTsKsr8D2f8kpaukEHgQ9jIlhjUZSF63ioEIYh6op2X5RSEKA3xrylronZdIpLFy/SYgDGFWJaxK4uoEpTZGmK2XwGpad9DoUFndX7vg9r6CEppUQSx1BKYbVauTddC6014jiGCiPKNLmJy6Kkt80ojEa5LMsKZVlBexp33XknmqbZ6zIIAheYJd02vRl02TYN6q6DkGqUy0sXL1GdhOvAGnLZNLQgiaKIHsKet9elAOB7HoWKTSaom2avy8APULifT0WrxaDLK1eu0OJovcZ8sRh0KQUgpUSeZ5BSDbo0LpgsjCKURTno0rjFvIWBUtoVme93+aZOnXacy2QKCNoxHOuyyHOYzkB4Ek1T3tKl9rhdmGGYYW77TkFFbBLpNoWUCtZaWBgX2kSJj5SvoCGlQNNISHf+HCDANt0iCkM0jYVS9LZYlbTw8D0fbdPQzUxRSFVdN/A8D2FArZ2A7XM02rbtj3Ua16oJ0E216zoIUEJp5VWAoDTRyXRCuSBau6MIOruXQmCX+U5vd5RHEbpz/LZpobWmGper15AkE4Rh0Ed3G2PRtA2klgha36WLGggpEEYh4jiGkIJ8WYswCuEHPrque4jLZNel4WmoRg267Dq6NtN1qMoSQux3SQ/LFtYYVGWFqq4GXXadce2mGW3xD7jsTIdA+RQU1naDLiPnKPADGGuoQHSfS+FC9oTAdDZD7QLJbulSayglXZEmXJbOgMuKElV9Pxjlsu06FC5SfoxLZBmiKMJsNqNjkbre67KpGzRV47pe9DiXhhZApqNOmSGXs9kMneno7zrLR7kUYldPRGFwt3JpuV2YYZgR3PZRTtvSdmznQsWM6WA6C60UtKKbpZIK1hqcnp7QzdN0uHr1KnwXLkVzNloYY13yJN2066ZG53IllgcHyLMcTU1bw37gw0W+ulqTOaWvukJSay2U1v05d1XRm9ryYInpdIKu7bDdbtE2LYIwgNYK1ljEMR1DbdMttukWJycnOLpxA3me4XS16n8+dQMlODw4hBCUwbJer1EWJSAEjo6PKSirLKE0nd8LIRCGIW2Vmw7S7VDsjgGa5uYulVZQ7rONcSmE6MO1du2h+1zS2zdlS7RtO8plGIU4ODxE4uagDLnM0gzXrl3DyfHxOJertft6haOjo2GXbidACIE0zQZdWmvhez7yLMXq9HScS1AL8liXUkpMpslol2FA7fLpNqWFw4DL9ekKm+0G2+0WEBjn8vgYjeukG+OSuqi60S7X6zW0p7FNt4MueWHCMMwYHkYkfQvtacznc4Rh6IrdcnSmgzFAZwysMa6gzlLWgZsjsk1ThEGI09UKvucjzbYIwgCT+RKd6dy2ssBkMoGSCmmaYuqSKqVUOFmt+rfOOIlx6eIlt3WeQ3saWtHbXRAEsNbC86iGpW4aeL4PAYGyLCiDwZ3lV3Xp5tJ4CKMQAoLewqcTdMYgDMK+jiB3YVHTyYRC2OqahhZqjYPlAoBAkiQoygJa1RBCYrvZQoBmkOyGoymlKHMEAvEkfohLYwy61i3cunbQJXU+UAHldDKht909LiEErt+4jtl0hqIoEMXhoMvdILi6rke53B0ztF2LySQZdNm4LqVdXLoQcq/Ltmn6zJO6KqGU3uuy60y/EwAhRru0aepmNY1zecdshosX6O94yKWxFp7nozMdiiIfdAnxpoWn7/nYbDaDLmkRQkc6lKmy32VVlZAq7o+ohlxqz0MQhDDGIs3SvS45+ZVhmDHc9o6J1h6yNHMdAS1MZxCFIabTKQ0lAy1OJtMpptNp340RRxFtAWuF9XoNC4vFYgEJgc12A2A3o8bi9PQUTdtAa426qXH9xjVUZYkoinHhwgVcvnQZbUND546Oj7BNt/3iRQp6owv8AEVe9DsTQghMJpTtMUkm/Q1XCjozh6C3Os/zMJvNIATdlI+Oj9wk3Uk/oEwpyqxYLBY0XbesMF8saA5LnqMqq35hlGYpTlcrSKmgtIZ0D7KyKOH5N3c5cQ8YCDHKpVSSCiaLAmmaDrps2wbLxRIXDi/g4sWLo1yWRYHcFR6PcSmlQBSFLoht2OXEfT4IYLlcDroUrpvl6tWrAMSgSwsLISQWiyWSOBnlctc9totUH3K5XC6RpimOjo9GubTWwvM1phP6b2fIZRzF8DwPsMDVa1dHu8wyWlyNcUn5KRbbzWaUS9/3UZYleYone12CY0wYhhnBbS9MVqsV1qt1Px9HKUmx052B53lujLvXD5wryxKV6zBpmxpSCMxnM5iugzWW6g6MoYFp2nuLCaRKKrcdLlBWJSaTpN8FCdwckiiKcPHiRRqoJiXKqsRms0ZZFnR27gooaduaMkrm8xkmkwk8z3MtqQE8reF5vmshFejaFpPJFFprBGHQt1QqRQuMsipxdHSEPM9hLHUk5WUJIYDpbIowjBCEPvwgQBTSWb5xwVe+R3kWp6enN3W567zIs3SUSykEHQVEkdtp2e+yaRocHh7SRFjtjXQpXSZHM8ql0h6alga+jXF5cnyCdpcQWlWDLrumgTUgL1U56LJtG+o8URJ+4I92KSDg7abzDrjc1UHt8loGXVY16rqBhR3l0oKOSeM4hpRqtMvS1XCNcVmU1Jq8TdNRLpVU/YLV8/Vel3yUwzDMGG57YWJhKfNASdRVjTTLIJVClqX9WygAtHWDsqrQNLWbnQG0nYHv+5hMp30uQlM3mEwotGm9oaTTXcx4EFD2w3K56Fs064qKNYMwRBRF/W5IlmbwtHZb0ArHxyfI8hxJklAhoue7pMqaCvoMBZB1bpha07bwfA+er1GWNU5XK6TpFkEQ9JkRUkhoj7bKt5stDUILaBBalmZ9+yeFTxlkWQ5fe/3gtLqu0bYtlssDXDi8AAC3dAkLN1tn2GXpnEiIUS539QRFkaNp6lEu67rCcnmAixcOR7nUSkFrhTwvR7msmwbxZNK3hI9xKaXAhYsXcbA8GHRZ15RZUpeVyzAZdhnFMYzpcHx8PMplZ6jeI9yNBxhwuVguIaVEkedU7DvgMssynJyeoK5rxHE0ymXhcoekGudyOpmh7SgQbYzLNEvRGQNAUL7KHpcMwzBjuO2FCc3geLNBZHWNSTLpB4QFQQBY239tOp3hYHmAwKfR7coVxXVdCyHo/KSqK1hD4+ThKvxpcm3Xh1bNZjN6M/Q0dTBUNLZe70Kd8hTWdXP4vt8np2qtsNmsabhgWdIIdmv6QYBpmqKua0RhSDkjJV1LH/xW18jSlPJTBGgeie2oU8L3+2yLvMjd56FOoKIskG63EFJASYmubd1DK0TtFhnL5fKmLoui6Lfcx7ns+hk/eZEPukySBE3TIIwiSKXGuVQKQgocHR+Ncpnvos9HugwDv3+g745Q9rmcTqeQUiHdphBSDLrcFXwaVxsxxuVuqvNkMhnl0sWLUKrxCJdFkdOxivM26NJSLP1qTbVWY1yWZdkf/4xxGQQ0Z0drPcpl27a4cHiI2WxKXUp7XPKOCcMwY7j9SHpF7YKVm81BRX4U6hQGIXWeaEq4tMbAdAZVXaKqK2zTLaxFP1fGmjfFadMAQI0kofP/zWaDqi77/AXf810ypgfrZvJs0y2Ndi9LhEGE1t2sK5fXQAFSnXuTo63kznWiNE3TZ48IIRDFEdJt6s7CLS5evIjJZIowoIh9IUE/2wVfRWEIPwjhe/T2vFgsEPi+mwi7RRCErnWToveLsgSlxVKaad00fTLm33a5G77m+/44l67LCaA23iGXnvYAAL7vo2u7US4F4Aow5SiXWZa5AXdqlMsgCKGVcpH3wy6lcxeEAbIsG3QZhiG1gLu017Euu7ZFGIajXJZVifVqhe12M8qltRZd28FYg64ddhlFIS4cXnjT18e4nM+pQLbIR7ksy4LalKUc5VJrjcodle7+vvb9u2QYhhnithcmXdchiakIb7PeuOJAGo9eVZW7gRdUlOf7NCG3s2iaBkmSQCtFoWTWIgh8KE03wDSjt7+madC1HYQQCPwQm80Gnvb6pE7rpu0mkwRxnGCxXKBzxzAAANelYI3FYrlEXVeApYLN6XRKW+JpSmPct1s3eMyirht0psNysaQCQGvdOT7tiiyXB4hcC2e6TVE3DaIwRFlSfYPneZS+6aLnwzCg+pA8BwTdqLuu7ZNrwzBE27U3ddk4P7PpbJRLJSW058FYQwmiAy6LskAQBP1b+hiXk+mE6ofc2/CQS097mEwnfQ7GkEvP97Bar1EWBQXVDbhs2oZi6N1YgCGXvuejMwZxHCMMw1Eu64qO9OqqHuWSxggkmEymo1wqSVk1s+kcgB10KYSkWTueBz8Y6dItruq6HuVSuXk7c5etMuQyiWlq9O6Ycp/L3SKFYRhmH7e9MPHd7oYUAtt0i6qi7fw0TeEHPj2EBIWmQQgIIZEXORpXaNi0DbTn4caNI4rOrhu0TQvP8yk1tmkxX8wxn81QVlTNv023NCunoEK+PM+QZZlL0uzgeTRfZHf0cXh4iDAKsdmsqeXS85AkiUsGlf2uD4RAnmdI4gRaaUyn074LgbblTT+LRCmFOIopk0IrmrliOkgl+wLb09MVfFecu9lskOUZ2o7yNSaTCYIo7OcDFXnhHloPdVnkBSaTCSXejnCZ5TmUlC4yvBp0udlsaFvfTYod43K9XtPX9TiXURyhqRtYM84lfY+lo72qGnTpu7d6Yw3Wq/Wgy66jkDcA7jhi2GXT0u6FUmqUyzRN0XZ0ZDPGZRiG8H2fNhKEGHRp3A5jt/s3OsJlURRYrdd9MOKQyyzLEMUxFYGPcGmsgTUWZVmibZq9LoXgHROGYYa57YWJsZYCp7oOd95xJ+I4ge97uPPOO2n7t67QNA20R5HZVVm4bWUaRCeEgKc9XL7jMtarNZTW8AMfWZZiNpvCWkvD37RGFMW4fOkyptMpTk6Oce36NUgpXFqlQNt2qKoaEMB6te4ntgbuXLxzD0Kt3xRuFfg0EXa7pV2F6WSK1XqNtqMiw7qpEcUxlFZYLJbuDdnHekXf0zQNsixDGAZQmvJIOkND6uIoxGK5ROAHsMa6IWoCSilMp1NYY/s6iF2Q1s1cXrly2dUytKNcJkmCzXaL2WyKzphBl9evX8N6vUYYBpTdMsZlZwAr3BC8YZe7eoIwjka5FEq8xbyhMS4n0wm1/MbRoMu6rqEUBdzFcTzK5a7WZTrSZRAEEEKgLKtRLpVW/U5GEifDLsMAURwhcYWtY11euHAB0+l0lMvApzTiqq5GuQyCAGm6RRxFru7k1i6rqj7r+x3DMI8CbjvxKN1u4fsUsLabw1HXDaqS5t8k7k3fGIPtdoM0y3Dp4iV4AeVMmK5D2RkcLA8orMm9iSVJgtPTFaQUmM/mgKThcmVJM3jKoqJhgdaidefwpuvQth3Fb7spqGVVYj6fIwojJEmMIi9p0F5ZURR4Q8PtLl66CGPcG7ykts+ioRu86SiSXkpqkwwDip0H0M8yWa3WfZjXdDLBNk2RphlOjo+RZpmLI6cwr90WOCWCUnunHwTYbrZo2uYhLsuigOdpmkfjukf2uVzMF25iMU0VHnJZFBU830NdVfRQGuEyiiLkGW3/j3FZliUC3x/tcrlcYrFYwPd9nJ6eomza/S6V7I9PwigadOn5HoyxNAkXGOUychH6JyenkAKDLpWUvScjxKDL3eDLruvQdi08z9vrctcKboxBkeeuTmS/y12KLv0b2g66FFJiu9mgrhskyWTQZWcMqrrGxYuXKCQxz2/pMgj8s77fMQzzKOC2Fya7SaubzQaTyQSr1QoXL16E79Osj93sFCEEJZvGMc0+qdv+LLpr6Y07y3LEMWUchMkE680KcZTA86lu4OjoCFpTF85T3vEpdMMrS1y4cBF5nkH5PkIh+gjuOIlR797KpIA11PGjtEbTNDhYLqA9j1ooPQ953kAKi+XBgQuByhGEIdJd6/PWIgxDaE9DKonS3eCXBwd9m2VVUsS4UgpRGEB7HhaeRtu0KMoCdd0iiRNKHAXQtA3cWBKamXMTl55HqbJZno1yWZQlPRg1jbn3PX+vy6e/09NQutyS5WSKPEsHXZqW3qKncjrKZeWGvG02NOl4yCUdbWmXwaIhQux1ad1EYaU0jGkBiL0uq6qCckclbduOcqmkoqC3IkcSD7tMkgRZlmEyo+m6Qy6jOOqPeJRSfQbQrV1uUTf0c5IkGefSo6nRSkosFvNBl01TI3atvWNcWlejU9UVBMRel0qps77fMQzzKOBhzMppYa3BJEkQ+D7SdIuyKKgGpKpwcnzS37iN6zrIs4xuflWN1WqFoizdUC9DAU6aZm0cHl5wgVcNrl+7Tm2arj6BBt9FCIPAZTP4fWdIEAT0dvpm7aawoCmpbYemoSm4WZZROmhZQiuFqqJU2N21U+GedlviYZ+jUZYl6qp2qZc0Xn4XL960TT98zfN89wZMceNaaUwmu5RRmnfTtR08T8H3vb0u66rG9WvXR7ns2hadod2OuqkHXRpLqbu7oX9jXVIx6jiX0+kMVVWhKIpRLne5HVVVwQ+CQZer01P4ngdrO0wm00GX165ew3ZLXSlt141ymWYpIIR7KA+7bFyNhTXjXJZlgfV6gzzLqfNmwGVVV/3E4F3i6pDLMAzdJO5mlMs+g0XKUS6btqWaqYICDfe5rMrqrO93DMM8CrjthYlSGmVZoWlaZHmOSxcvQymNIs+RpRnuuPMOxHFE9XwQWB4sEcWxG6rn4dKlSxACuHbtGrXOhmE/PThzw9g6Y+gm7+bXeJ7X39ibtkVe5NBau1HxG8RJjPseuA/pNnVj4S2kAKwxSJIE6/Ua09m0r2cJwxBVTccQNB8HqN22tlACFy5cQNfSFNiyKNC1LY6Pj3HPG+6B6ToUZeHqFQWCIOiPrrTnYT6f01m+tbhw4SKCgOo4sjyHdt1FWnv9NvzNXOZ5jqZt8MR3eOIol0fHN6hLxtPw/WDQZdu2yNIMddMgL4tRLoUQSJIJHnjwwVEuu46yPhaLxSiXuyOJqq4ghBh0qbRGmqWIowR+4A+6fMxjHwMpKTdHSTnK5S6tN8/yUS6ruoaSCkVejHK53aZIJklfmzLkMgxDWEMBh2majnJJbcAhZrPZSJcUb08hdMMufc/DwcEBtNIoynKvS4oFYBiG2c9tH+V47oFB586164awmM1ngKUdlSiK0HaGEieldB0FBmEoXUV/3b9JbrcbeJ6PqqWbaFmVfahY2zZo6gbSFdkBwOnpKabTKY6OjiCEwGIxR1VVuPvOu6E9jbIokOUFkijpW3Sn0xniOKLI/DTr2yStsfB9D57nQwiJOEnQdVQPEcURpBLwtI+266C0gql2CZc0fE3JkiLm/QCepvkjYRhCacru6NoWStLZv6c9LJYLl2pK02Y9F971t13u3sDbZqzLpG8zjeOI8kP2uAzDEHmeU3CW9ka57NrW1awskCTJoMsoprlJ2tOIxLBLKSi4LIkTN0xw2OVms+mDvoZc0hwkv6/vGePS8zy07hitqqtBl57n4cbRDTdHadjldDpFFEWQUqDMKC9kn8tdmJ8Q9Fmath10SS3HFRWrjnBZ1RV8j4LjpJSDLoMgdHk2DSyw1yUlxDIMw+zntndMoiiC6ejmudv+D8MQQRgBEC4BlloHo5hizuumxmSawBo6kgnCANPJBFVZ9YPCCpecGgRUp0Fn7rmbBdKhLArUFc388H2f5nO4cLamaZBM6CZsXDFnVZU0Ot5aeFqjKiukaUojTyzd5GfzGSx1YCKKI4RhgLZp+jN037V7Skl7FnfddRcsDBbzObIshecmwfq+hzx3ya/uaAAAtmmKpqlRVhWWyyW6rsN8Pu+/n97IH+rSDwIqLq2rUS7jKMI2TVFXNUxnBl0WbrS97/vQnh7lMopj5HmO+Xw2yuXu76ht2lEugyjE3C1u82zYpekMLl28iKZtUJbVoMvShYUB6NNah1w2TYOmrvvukyGXNK237LNGhlyGYYSiKGjXQqlBl+RPQmtaKIxxWeQ5tS+7xcKQSxos6KFt2lEuozhEuk2htcZkMtnrsm2bs77fMQzzKOBhTBfWNBekoyyF1WqNsqpQVxXatqGHnVLI8gw3rt+gjgdDlflpmqJxwWRSKdclENDugBtG5mk6owdoBDtN/RUIwhCT6RQHBwdQUiFxk1h3U1OrqnKLA3qDD0IaxR4nCeKEch7atoUfBKjqys0ZKZClGZSSCIMAZVli63I9mrqGVMrVtwCHhweUcWIstmnap2NutltUFW2/04OnhrX0ZlgUBdI0g9YKnk8PNWstNtsNsowCrW7ukj63HwSjXBpj+7qYuq4GXYYRTUaeTqf9scKQS+uKNLUbFjfkMssyZHlOx28jXMICp6crOtKIhl1KKaieZqRLz/PgaY0bN27g6Oh4lMumadC0FAo2xqWUCsvloo+uH3SpFYSgFNrdbsU+l3Vdo20aSCVdRP0YlxGCIEDparqGXHZtB1ggy7JRLk9PVijKAsZalC7L5VYuOZGeYZgx3PbCpCjyfqgXtT+GWK9X7qFg6IaqlUv8pBuhMYamiwL9mbc1FsvlAr6bbDubThGGdFxTlNQ+nCQJVfNrBSGAsiz7h2EcRzCWYtqVkv10Y+Nms1RlhbqpYY1Fuk3hu/Hyu26Cqqoo+dR0sNaicnNcBEBvwmXZt6ICFlp7bqqr7GsCALiWW5pRUrviQ609VGWJpmnRtJRbkbuHdNt18P0QUUQzUG7mcndtY11KSXUxEAJ5UQy6NKZD13VuKGI9ymXbtui6Dqer1SiX/fZ9N86ltdZN3hUuKG7AZVnCWmA6mUErNeiyLEqEUYyubUF7EcMujTFI4gRhFI5y2XYtebcY5TLLMiowDamFesgldQjRMR0d7wy7fNNxVTTKpZQCq/WKhu+NcblLNW47dN1+l9wuzDDMGG57YVJVFS5dugStFG1Zu7Pwpu2onTIK6YZsOkynMwDouzLiKEIY0E2+qqt+SNtkOkXbdajq2o2H32C72cJzYU9CCGw2W2w2W5wcH/c7KEVeAKDQt7KiIw8IgcV8AeGGrq3Xa6RZirpq6IZbVdCKpr1OJhP3Jk/75lprdzQTvEXMeOAH7u2WAsaSOMH1a9dpQTWbuS4SD9ItVnbtl1euXMZ8vsAD99+Ptm3cUYNBU9cuC6O4qcuuM+4NXIx0WdNIemspvXbA5Xq1wXa7xWq1gufpUS6NMX03zhiXYRhhNpvRQ2qES9MZLJdLCCngB/5Il3StcRINutSeRlkWVATq6pWGXEZhhLqpUVfjXIZuHkxRjnNZ5DnNl9luUeT5oEshJILAR+tm1IxyGfqwxkLIcS4taEfkypXLo1wKIRAGAbSnoZTe69IY3jJhGGaYh5X8qpVC4+ZvtG6r29caWZohTbcwxmI+m6MsSxQlTRX1gwDCxV5XVYXE1X9oNy3Y0xplWSLPc0ynU8zmM5jO9LkJ1tp+ampnOjpLD0Joz+t/hrEWvu9js90gjEKYzvTJnhTMRvUONBsmhgUNF9NK49qNayirqs+46LoON25c7x8e1ClCCay0c+P3SZddS4Wq/eyRuoYfBMizDFVV4o477oSnPWr7NRaWhvfAmJu7lELg9PQURVWOchkGQV/XMMalkPQw8X0fddOMcilASaG7N/Ihl0IKlMWbIsyHXGqPhjq2TeOGBQ67bNrWXQ+GXRYFosjVa+T5KJfa09BKYbvdjHK5O9KMwmikSyoUNV0HpfWgyyROsNlscLpauSTVYZemNRSgVtWjXNJEYAkpx7nMsqwfjBgMuKSaGIZhmP3cfo2J0mhb2r62Fgj8AF3XQntUkBe7aG0L24cqrVYrNC2lw1ZVBa0V/DBA27b99nUUxfA9H4eHhwBoWKBUEmEY4saNG2+xHW0NnWcHId1kjTsXF/31tVivN0izFJ3poJSCVJK6C9w2e1VV6NquD4TaPSwmyQS1u+FfuXwFQkhorZGlKUzn4rZ9D9PpFGmaYrvZoDMdqqpE15p+2mxZUHGg71MHiBASySSB6VpUVeXaTm/uctedsVwuR7ncvV0LtwM15FJrDeUCwrq2HeUyL3KKMhcY5VJKiel0hizLRrncbrfI8ozi0Mtq0GWcUKz87s8e4zIIArRth8D3R7mkcLQEWutRLquqhgX6YtWxLpXb9RhyuU23WC4o1dUaO8plWZYUfOaKj4dcAug7lsa4jKIITdNitVrRgmSPy10bM8MwzD4exp2Cuj4gBKyxNDNG0vl4GFHnCM06iWBB9RpVXUEKClITQkArD01NAVK7LeQoDJEXBRZqQW+NxkAIegA2TUOzYuoKpjM0Jr7rYK1BEAYQECirEp2hX18sFiiKgmaiVCUEKJRq7kbAN03Tn4d70kfd1Lh48SKUpOMV5XZ/At/vJw2X7sYduFbTym3te55GIKT7uZSi2XUGm+0KVy5fBoTAZrNxb8i04zSfz1G6N/abuVRaIXT5GVVVDbrMsw2Kkt5iaapwvdeltRZ5lkFKhbaj4XBDLoMgcLka1SiXNAWajhyKvBh0maapO1pRAOygSw8epFKYzmY4PTmhibl7XG42NCWXJt7qUS7LskQYhthu6fhmyGXXNmikcF1qwy53EfFUq6NQV/tdKilRliWm0ymtdiwGXb6p3kSOcrlerWhh4o6fhl169HdlTb9Iu5XLpmkQBtFZ3/MYhjnn3PbCJI4nCAMKlsqLHJ2hN1DteQiCADeuX6f2zShG11HGx+GB38dRCwFs0y0uHB5i4zoUJsmEMiO63YwQRUFTARXJXrp0qa8H2KVotk2DpmmhFL2F56c5nWNbg6IokOc5jo5uYDqd9Q+Xw8NDdB0V6YVhiNPVCkEQIApDwM0MUdZDUxZIsxRB4MOiovoRqfqujK7tkKUZ5vM54ihGa1pIoZBn9JaqlMLlS5f6m3QQBDDWIM8LWENb21mWUT1I0z7Epef78DwPDzzwAKzFoMvFco78foqvn06m9Da7x2UQhAgCv38AdW076PL4+BgHBweI42SUSwofox2MMS4PDg7cVF56+89dS+6tXJZFCaXon69xM5r2ubz33nuRxAmE56HrzCiXb56LMsYlDeijtlw5wqWQEnmeU5IsMOiydiGDnu/BdJ3rDNvvEtYiL4p+h2XIpXSzlrq2Rdt2gy5hLdUSOY+7BfitXDIMwwxx2wsTrRWFTHUtPO31g87S7RZKaczmc0wmHXw/wHqzQhTFfZ7IyckJ0jRF4FPGQZwkUEohz3MEgU83ayGonmKbA6CjAs93Md+2w/3334/Y5UAsFnMYQ2+ecRxDK01hT02L+WxOeQq78/+yxHazwcnpCrPZlAbXuejwqq5hLW1v53mGk5MTzGYzFEWJpm1wsDyAHwRQrg3U83wEQYD5bI6u6+BJOhIRUkBrje12i84EmPsB2q5F6x4ouwdUmqbQSkEr3XdzvLnL7WYDPwioo8HaYZdxjMmUumSqskIUhXtdwlqkaYYsSxHHEbJs2KUAFVgqRUdvQy6V0litTt2k42GXk2TST9IVAoMuqcDSopYCWulBl5cvXwLccd12u0EcJ6NcJnHsFh5q0GXkWq4PL1zoh+btd0nTqY+Pj5Fl+aBL+je/wGq1hlYSc88fdinptNYPfEqLHXBJi/8QlaC28yGX6XaL5fIAcLOf1uv1LV0yDMOM4bZrTPI8d7kJtPWvlOqnxwLWtWMKd25Ok0p3vyeKItx9993wfA9CKigp+9HsNNQvw/333w8hqesmjmP4gY/A3TillPC07usWAn+XhCncQ4ZaM4UU/Vtu19KQtl3b4mSSYDKZoChLTCcJqqrC4eFhnz0RRREuXbpEEeBRiPl8jrqpIYWAVDQht20bKKWx2W6w2W7QNE3fmeP7HrQb+Z5mKaqqguf58LSHtqMCQykELIAsz27psmtbWGNGudyd3TdNgyzPBl1aULKodQ/VMS6tpY6iMAxGuWzaBrPZDJcuXR7lcr3dIN2mdLSg/UGXQkq0bQetFDpjRrikXQXaSbCjXOZFhqqusd1sR7nM8hye7yPwg1Eup9Op676SmE4ngy4vX7oE3/cxn88wmU5GuVQunZbakYdd1lWFqir6ScZDLuumwXqzRusmc+9z2bldPIZhmH08rIA1ao2VlAppOkRxhCAIoZTGZDqFdpNNF4sFPN9HnuXYbDaQUtDuiO/DGhfcVBaI4wh10/RFcpv1hsKrwtANgsuRphmuXr0KPwgwm82wWFCQFSzcKHc36wZUrAcBHBwcwPN9nJ6cIM9z+J6HSxcvoW1bVxvRYZIkuH79unu7FGjqGkEQuAekm/GhPWy3WzRNg0uXLsHzPKzWK5rBM5lACtl3DpVlBVjjhqe1aJsW0xnNOfE0eWuaFrGblXMzl77vw/cDTGbjXNY1DU6DtW6Q336X6/UaR0dHmM/mmE7HuVwuD9B2LY6Ojka5rN8sMXWMyzIv+o6XrMhGuNQAKOfj4OBg0GUynUAIOmpYLpejXPp+0D/AR7mcTLFcLtF27SiXp6enqMoK8/kcFy9cHHS5i9L3fR9xnIxzmaU0v6coRrmczeeQkoYEjnX55q3k+1wajqRnGGYEt70wAQTatkVraCs43aauOK+lbXTPQ9d0kJLCt+I4xnyxAABUFd1ghZSQWsLCwnQGi/kSdVVDCIFJktCWs0svreoKTVMjSeL+DSyOY5ycnOCBB+9H01KNRFmWkFKhrhsqMu0MojBCFNGip21biuJ2sdubzQZtS4mzR0dHFBUeUZtnVZYuQI0CqqSULhkzxcnxMQDgjjvuwHw+R9O0MKaDABWCKilhAaxOTyGEwDbbAtZS+FYUUmpqR8c+4hYua9d67OlxLpWitlOtPSwXwy6nU5rGS3UMwTiXcQTf81EWxSiXYRhCCDHaJXWGlBACkCNcUmeQ39ehDLkUEJCCYt99zx/lMkkSWoQF/iiX2tO4//77cfXa1VEudy3HWUrdY2NcUidV1+9gDLmEFWjaBlrp0S5p5lUzymUQBEiSBNMZedjnsut4YcIwzDC3XWPSdq1LO7WwQkBJRXUWvgdfUIpr3dQALISQKMoC8/kcAL1hzWcz3Dg6Qtd2WMwXsNYgTmLESexmbISYdB20R90cnvLge3TTnM1mUC6ka5fzsBtspjVtp0spYS1QNzXSLKXhbskEZVUiiWMUReEGltHb6+nJKZI4RusCs6IoQiUk/RzQgivNUgDAdDrBZrOhTImEtt4pJrx1Lc/UfaAktVUmkwmElCjd9GEhBHzfQ11r1C5u3Vr7EJdh6ENrD2VRjnIZRzGWyyXCMEScxMjybK9La01fg0LFm8MuczeFdjqdoW7qQZdhEMJYA+vaUodcxlHc/zkABl1qpWE8ypDJsxyAHXTZdC26NKVjuxEuPU+jKAp0XTfK5S7bI47jUS49zwcsDcLbbreum+bWLmGpjsO6rqXUzc/Z51IIScm4bvLxkMuiKKC1h7quRrmE60bb5dVQ7dXNXXK7MMMwY3hYOSZCSMoGcQWK9AChh/lu+9lYIJlMKAOh7aidOAiwWq3Rti1OTk+ow6btsFqtEPiUayIgsFgsoJREWZWu0LbD1j1Q6qbBNqWI7sMLF2C6Do2bH7LebGAMBUolcUzFfXkOIQWMy2SoKhr4liQT5HkOCxo4Fvg+yoJagJVWdC1CwIK6GaIowma9wXw+RxCGaDvadq+qiuoOEqoLSJIE8/kM88UCWmlMp1O6Yfs+uralWTMuYl5r76YutfZQVxWuXn1wlMvVeoXZbIb1hlJIB11uU4RRSDN78nyUy9oNbtOeN85lWSLLUmhPj3JZ1ZTfEcXxKJd9rY7LyRhyebo6he0MtOdhMh3nsnSt2nmej3K5a+U9PDwc5VJJSa3EphvlUmmFtmmgXF3NOJcxqroe7ZLycmSf6zPocpJASUmTsMNor0ulHsYGLcMwf+e47TuFcAO/OjfELY5jRFHkpuHW/Rl4UeQ0TVRQO+due9fzPco/UJ7LQhB9q+7uXLptG3SdQZIk/c+k3RUL3/PcGHYap1657fDGzVZRWrl2TSr2K6sKZVG4nJWwz43YLRKSJMHB8gCTyQR5kaMqK5c42sD3PFRlhSzLEbgUy65tUbnZL8ZQq2SWZe6tmHIjmpa22cuqRFNTvQcNbwNa91YZJ8ktXTZ1A+NqXsa4VEpBCgnpsi2GXM5mMzRVQx0j7i12yKWUClmaoqmrUS432w0EJNVNjHCplEacxDS1GGLQZdM2kEohjEIkk2GXntY0z8il+45xSZN2qRB3jEsqEm2w3Yxz2XUtPM9HFEV9l84+lzT1Wvf1N2Nc7rpnjDGjXMZJhM4tqka57Dq48x1a0OxxSeErDMMw+7nthUnrdgk6Y9zU0rIPT7LGjZ03dPMGaIclDEJEYQQBSpVUmuKpu65D5Uai7x4QZVVis95Si2XbuXkgGkWZY7OhN7GupfTJzXaDuq7cGTz6yOv5Yg4hKKVTgGZ2hGGI46NjF79O01bXmw2KPEfb0nA6AFgs5miaBienJzTcDBQw1TQNZtMpsjxH07a0GDGGJiO3dLwVxxHatuvng3QuU2OXVLvZrPHg1QchXIHgrVy2bQNYChcb43IXdNY0LQXEDbjM8wxplqJxnUtjXBpjYAEUZTXKZRAECKMQZVmOc2lNX/xZN/Wgy6OjI2w2a0gpsVqtBl02bYswCOD59GAf47JrqeXW87xRLj3PQxCG2I502RkDT2vcd9996Fydyj6XWZbhdHXqFhUY5bLraGFkjR3lcrtN0TYtirIY5VIA/eIqCMO9LnnHhGGYMdz2oe9ul0AK4Sbq1hRC6W6+u90Aa6iboCxLQFh42geEhO1aJEniRs5XSCbJm71Z0Zj3IAwRxRFOT0/pjXGzgad9dC294ZZlAc9tY1PWBD24d+24rTsemkwmODg8pBTYJEHdNH3BrVYKd911F4wxSLO07+pouw5SiH7aa+BTV0mapZjP55Aue6KuaIaIdXNQmqbB6ekpZrMZqrKC52lAuHkxSYK6ppZi3xUZrk5PMZ/Pb+rSCAmtlasZGXbZdR3qusJiuaDI9AGXgR+irmnOS57lkEIOupwv5rgYX0RVlqNcSilhDdVWjHHZ1A3NnQkDFHmOPM/3ugzDEHFEeTar1QqHBwf7XUYhkskEeV6Mdrl7kGutRrnM0ow6jzz69zDksmtbBGGIIA3gh+GgSyWlG9inAUEL1SGX2y3VWcVxjLIoB12m2y2WBwdYLpfuqGm/y6qqUJUltEe5PBC4pcvdRG6GYZh93PbChN64OmyLHIEfYLFc4OT4GKerIyRxAs/3sFqtoJTqz5wFKAa86zpYQ9HqUkoErnWxa7u+DiGMYvieh81mg9lshs16jZWLyb5weIggCOEZA2MtJpMJkjihScW7D6Q1lKRt792MkF0Hw2w6hbXAerOCdkFhcRQhCkM0TUsLLNdyay3Qma4PKes6eqg0dY3pbEaTlF1yred5uHH9BtbrNQ4PDtGqFlVd04PG8wAhEIQBTG4otyXLMZlOb+ny5HSFixcv9H/mkEslJXQY9lNsCzfy/lYufd/HxYsX6cGr7SiXeZZjMplSS+kIl7uahelkQsWTI1waY6F1jKsPXkWe5/tdGgoga9sGFw4P+2GKt3JZVzXWqxWMsUiSZJzL3dGDwDiXNJ4Rs/kM1thBl52bcXPx4kWYzmCzXe91OZvP0dQNyqp006mHXd57733wPI3lYommbgZdzmYzOuqytg9K2+tyksB0Xb8A3eeyaVoE/lnf8hiGOe88jL1VmkqmpIQf+mjbFtPZDIcHB5hOJ9Q+21F1v5QCSmlkeYYsy1DkBXxXH5LnOfI8Q1HQG2xd1RSKZg2kEkjchF/P95EkCYIgQFGUuH7jOqqaCum6tkXTNv2AMCklatcVJN2UU6kEFssF7r33XpycnNANVHmIkwQTV2hIOxk0BbZrWzc1VrrJqTXiJMbh4SFOTk+gte53SJTSaOoGaUqFiYcXDihsqm1R5Dnqpu6n2YZhCOXGyCeTpO8IuZVL3711j3G5TVNUZYk8L9A27aBLIQSKvMD169fRGTPKJaXoejg8PBzlEqBFSF03o1xKKVEWBYqigB/4gy6lVBAADg8OELujrn0uu7ZDUZa0I6bkKJd1U6Npmz5PZcilEBICFk1dj3KpPY177rmnn1I85LJrOxjTUZha145yGce0oE2zdJTLMIrcQkONckn/poE0TZFn+V6XHLDGMMwYHkYkPW3LqySB74KnOjcThUKfKhhrEEURhJQ0WdWNVl+dnkL7Gk3TQCsFzw9Q15XLWKB2UmMt6qpBGIVAS7NDoiiiYkMhKHpbv6kzBEBf4xHFCSyo/XM6nbociQpCSEwmk75or2npgW8steFSkaPnihIpkv7K5SvIlIL26A20aRpMEwqkqqsai8UCxpg+9TMIqJ6gKitYGIQqRFnVSNP0Ta2UrhUUoBu51h49TP+WS8BCe/SggWtD3efS8zwEQYiucw9CJfe7rCoo58LTepRL2ukpECfxKJdKaVy/dh1FWeDSxUujXEYxDXgLAkpO3ecyjEIURYm6aVDXNU0i3uPS87TbGUqoUFnJQZe+Tw9lKcUol1opN3xwnEs/8DGfL6D74tT9LtuOIu21os6rYKRL2kkDpBKDLml6snLpzMMu6b8BWhBpT+P05OSWLnfzdBiGYfZx2zsmYRhBK+0Gf1EdhB/4uHT5MlbrFZqmdrkFHhX5WYskiWCMQe0WJFLQMQ4sZShoj2bN1BUVY7Zdi8y9be1+fb1eo6poau7xyTG26RbSJYu2bYc0z1FXVT8z5fDgEHGcoCgKZBkNEjPG0g1UU2eEEMINLKMQKM/zsFguaDbNegU/CFCVFe6//35qv4wiSKXcZGPKkmi7Dkpr1FXZvxGenq7cG6dwA8ymKIuiDwLbbrf08IjCm7pcHhzg/vvvh6f1KJdxRFOUgzCgh+SAy9Vmg6qsUBYlrt24Nsql7/vYpluXczHsUkqFy1cuQ0o5yuVuhAAAutYBl57WaOoa2y0VpA653M1M0lr3tUFDLqWQaOpmtMsHrj6AznTwfX+US/Kn0DRtP4l5n8uu7ZDlGaI4xmq9Ge1SKY2m6Ua59DwPcRQDwDiXTevGB9BOyj6XxnLAGsMwwzysxCPP11Ae3VCtsTDGYHW6orejtkEcRzDu14WgokA/CDCdTOF5PuZzOmi+fuMGlBT91rofUIW/1grbzQZSKmy3WyTJBPPZDE3buhtlhLapaVR83SCKAoRhgLqqkWUpEjGhmhUp3duodfM9LEV79y24LWazOdqudYMEadcjjmOsTk8A94DIixxNU7vP7lEbaEtpslq50fJVBeWi4KuqQl7k/eRVY7q+zdPzPHRdhzzPMZ1Ob+oyy/I3hc+NcFnVlRv4Zmmo24DL2XSKoiiQTJI+RXTIJWVaSHRt54oYh1wG7gE7wXp1Osrl7veUZQk95NL9/myVUQ1OHO11KZXqj3yE27YadOkH8DwNpdUol2VJYwmkEKibdtCl6WixCU07YYDY6zKKYxwd3cBiPkeSxDg9PR3l0hiDtu1GuYyiCEmcQGk1zqUUaJsGZVUhGHApBHflMAwzzG0vTLI8Q9OWVGoigKqmNzLP91CWJaq6Rl03/cj1OEmgte47HCiqm97sioI6QpSLW2/qBtvNBkIA2tPu6IPSUrXnQTV0w/U8D+v1GmVJrY6L5QKL+QJCiD6DoSxKzOYzxHGCtqUuhel0jvVqhc1mg8PDA6w3Gyitafy7MTQQTUpAARDC5VZQ7shkQpHbUlGQnHQD2pSiHQrf85EXORUtRlH/cKDJxgV8F3pGs01qTJJJX3fxEJdaIy1LirEf4bIoir5lW3sewijc61K5Qkzfp7H32+120OV8PkccRZQvAjvochdtrrUa5TJJEkhBR1C+56Moi70ua/eGbwzNfxnjUrlFJADEQTzo0vN9Cnsrq1Eu45iOlbZpivV6PegSgo5aAj/Ayckx8rwYdGkNXauSapRLarUvR7vUWmO1XvWzloZc0u5nAN22fTLtrVxyuzDDMGN4GO3CBlpR6JIUAqfbFCcnJ3jc4x+HpmmwmC9QFIULBKNFh3Lj64UQ8LSHzXqDKIwwm83oJm/pPL7rOupssEAUxSjyop+++uDVBxH4PibTKUxnEEcJtJY4PDiABXB8fIx0m2IyncD3fAhJo+WNMn2cd1HkKMsCTdvgxtERwoByIObzOY2ldx1CWZZhNpsBlt4k27bFer3qaweMMQiDAFIKqrXoWiSTBHVTIwhCTC2NrY+iGGVRoDMWbdMgjCI0TYsknmA6myHPc2ilH+Ly8Y9/HNq2xaVLl1wB6H6XcRSjMx2mk+mbPscelw888AAODw9omz0Ix7n0PTfPBYAxgy67rkNZVWjqepRL7YooPU+Tp7bZ6zIIQ9R1g8uXL1Maa1nudXnhwiGOj4/d56DdnlEu3SykMS6jKIbpDLzQ6z/PPpem34lIKc9nwGXX0OeFaxnuVqtBl34QoG1P6dqMGXQp3cTvOIrg+f6gS2uBIKJjq6Io+xlPN3O5m0rMMAyzj9t+hena1o2ON9hstwh8H7PZDGVRInQplFFEBW/G3YyaukbgB30nAJ3xmz534trVazDG4uq1q1jMF4iiCOv1GmEY4MGrD2K9XkHJ3Zt3C2MNhAS1OwY0kySOYywPlmjqGkfHR/0E2MptrxsXOnVweIjHPOYxWC6XmM7mCIMAr3/965Hn1FFwdOMISZJgs9lASAFrbF9QqtzRUJIkCFyXza4L4s0fYn4QYJdzeXp6ijDwobSmDIvZFH7gu2FtzU1dFnmJxXKBPM9HuRQCWC4WyLJslEvtaeRF0RdtjnFZFAUE6GhljMvtdosiy/q8jyGX9G+rg5CSBsgNuCzyHIcHS1hL7bJDLquaBu7leQFhMcrlZr1BXuR48Op4l1JS+ukYl60bLimVwqXLlwZdhmGI1XoFz9Nomnacy2a3Q2lGu1SuUHmMSykkqrKiRbqrNbmVS8k7JgzDjOC2d0zmiwUdq0gFrWpIpTDXGlVdwQ9iCCFwenqK6WRKQWju7DoMQmpNVBTjLaVEVdWwxiCMQkgpMJvN4PmUCntycoI4jgFLx0eLxRJFUaAoKAOiqRuk9RbK5T7schSSZIIooqJG0xk0TQ1jLaIwdIWACk1dI04SXLt2DQcHB0jimDoLQF0Xu+JIa0FdQ1q7nZEOFjTOnopfWwhBrbYClF/RumOqwA+wTbc4ODyEHwR9IWFnqM7E7jIg3HySN3fZNPSQFQJYrzeDLoWUqMq6HyQ3xuVms4HWCr4fjHLZti2sMSirCtPJZNClca2kjasxGHK581bXNbTWgy7brkMURrCWdgkm0+lel1mWUdvrZAJjzCiXnu/B0x7ms/kol1p7MMbi9MY1RFE86NIYAwXd1+3UVbXXJcXgK7Rt148GGONyMp3SgtIMu0ziBHFCwwM97Q26FELC0x62mw2m0xk8z7uly90xGsMwzD5ue2Hyi7/yKtQVzeQIwzc9xNu2Bdy4eiEE/MBH46LgIdw8HCldXHYHP/CRZznCMICU1EbYto0LhtLI0hRKa5dNQW+DaZZBQCAIqOCycZHlu7NrISWigAaZUReLAYRAHMUQoFkquwfDLrZduthspVSfTNk0bnS7cEcEnu7bJo0xfRaFtda9ldYQLj11d4wiFd2wSzeqfjdLp2lqBEFAcd8+7Zz8bZed6dDUjQsmM4MuPc9DnmdIkgkNy7N2r8sojpBuKU5eSumOZAZcGgrlCgI6ehtyuVuU9PNoBlwCb6pP8LTnulpu7ZJaUL3+9/kDLqWbkBsnMbI0pZj/AZf0dYO6bug/lgGXu6OSwh0rDbkMgwCtMWibpv9vaL9LS0c4bpSD53uDLn3PdwXXBl3XDroUrs5qFx435DLdbrFcLtE0TT+n6VYu773/Op7yDo8/63sewzDnnNELE9/zcPddl/BD/+2XzvqaGYZ5lLJczs76EhiGOecIy/urDMMwDMOcE266Y2K7DF3x+pv+hj/6k3tw4WCKu+86OOtrZx4hf/wn90Brhac/7e6zvhTmEbJa5XjNX9yL93nOO571pTCPkPU6x6v/7I14/nOfetaXwrwV+PmX/gE+8oPfvU/9/ruO0Auo8LF7v+fmC5N2i27zuzf9DT/5Y/8D7/luT8AdH/JuZ/35mEfIT/74TyOJfTz18z/irC+FeYTc85f34bu+4xfw3Hf6rLO+FOYR8sbX3o/v/I6fw/Oe/tlnfSnMW4F/82/+P3zoc76ap2s7ZPTEwYUJ9+8xDMMwDHNu4IUJwzAMwzDnBl6YMAzDMAxzbuCFCcMwDMMw5wZemDAMwzAMc27ghQnDMAzDMOcGXpgwDMMwDHNu4IUJwzAMwzDnBl6YMAzDMAxzbuCFCcMwDMMw5wZemDAMwzAMc27ghQnDMAzDMOcGXpgwDMMwDHNu4IUJwzAMwzDnBl6YMAzDMAxzbuCFCcMwDMMw5wZemDAMwzAMc27ghQnDMAzDMOcGXpgwDMMwDHNu4IUJwzAMwzDnBl6YMAzDMAxzbuCFCcMwDMMw5wZemDAMwzAMc27ghQnDMAzDMOcGXpgwDMMwDHNu4IUJwzAMwzDnBl6YMAzDMAxzbuCFCcMwDMMw5wZemDAMwzAMc27ghQnDMAzDMOcGXpgwDMMwDHNu4IUJwzAMwzDnBl6YMAzDMAxzbuCFCcMwDMMw5wZemDAMwzAMc27ghQnDMAzDMOcGXpgwDMMwDHNu4IUJwzAMwzDnBl6YMAzDMAxzbuCFCcMwDMMw5wZemDAMwzAMc27ghQnDMAzDMOcGXpgwDMMwDHNu4IUJwzAMwzDnBl6YMAzDMAxzbhDWWvu3f9FUV9Ec/8JNf0NR1FBawvf0WV878wgpyhoCAmHonfWlMI+QrjMoywZJEpz1pTCPEP67fPtisy0wm0ZnfRnnBhk9Ed7y/fZ+z22vLqLIP+vPxbyViEL+u3x7QSnJD7K3E/jv8u0LXpTcPnyUwzAMwzDMuYEXJgzDMAzDnBt4YcIwDMMwzLmBFyYMwzAMw5wbeGHCMAzDMMy54ba6cl76a3+CH/ixl+Mv/upBZFmFK5fn+OD3fWd8/md+EBbz+Kw/C3MbFEWNb/i2n8f/fsWf433f+6n4mi9/wVlfEnOb/NVfX8UP/tgr8PJXvRYPXD1FEgd4z3d7Ir7gMz8Iz3j6Y8768pjbYLXO8YM//nK89Ndeg3vuPULXGTzhcRfxfu/zNPzTT3o+Ll2YnfUlMg+Tqm7wOV/yQ3jjfSd4/+c/DV/xhR911pd07hmVY2KtxZd81Y/jO1/0MgS+xnPe40nwfYU/fPU9ODpJ8di7D/GzL/4XeNpT7jzrz8OM4Ndf8ef43C97MV7/husAgA/8+0/Hz/+3Lzzry2JGUtctPuuLfxAv+Zn/g84YvMMTLuGxdx3idX99Dfc+cALPU/iR7/4s/MMPe/ezvlRmBH/0mjfiIz7xW3F8kuJgmeDpT70LaVrh1X92L7rO4M4rC/zmz30F7r7z4KwvlXkYfNO3/wK+6pt+GgDw3s9+Ml7201921pd0pozJMRl1lPPDP/FKfOeLXoZ3eae78aev/Hq89Ce/BD/3o1+Iv3jVN+ITPua98Mb7jvH3/8E34P6rp2f9mZk9nK4yfNYX/QA+9OO/Bat1jg99/3c560tiHgY3jrf4sf/xKjz/uU/BK3/x/8WfvuLr8Us/8cX4y9/5JnzdV7wATdPhs7/kh5Bm5VlfKjOC3/itv4Dvabzo2z4D9/zht+JXf+pL8du//JV4+c9/Be68ssADV1f4mm/5n2d9mczD4J57j/CN3/4LeI9nPuGsL+VRxeDCpO06fN1//Dn4vsaP/9d//har9kkS4nu++dPwuMccYrMt8L0/+L/P+vMwe/iKr/0p/PBLfguf/knPx6tf/rX4iA9617O+JOZhcNcdS7z+9/4DfuknvhjPetfH978upcAXf+6H4fnPeQpOVxle/qrXnvWlMiP49E98Pv70FV+HF37sc+F5qv/1d3/G4/GSF30uANrlZB59fMlX/TiqqsG3ff0Lz/pSHlUMLkx+74/egDfed4yP+MB3xTs8/tJDvh6GHj75Hz8PANWgMOeXD/+gZ+A3/ueX47v+w6ficDk568thHgF33bGEEOKmX3vuez4JAHD1+vqsL5MZwXQaIY5vnvT6rHd9PAJfoyjrs75M5jb5pZe9Gj/30j/CZ7zw773FCwQzzGDx62//7usAAO/7Pk+95fc879lPBgC85i/uR9N28LQa+rHMGfBRH/JuZ30JzNuAqm4BAHOOwn7U8/t//AZUdYsnPO7SI/9hzNuMNC3xRV/5Yzg8mOCrv+xjzvpyHnUM7pi8/m+oQPJmuyU7nvqkOwDQ8Kn7H+Q6E4Y5S/7g1W8AADzhcRfP+lKYR8Dr/uYaPvpTvh0A8E8+9rlnfTnMSNq2w8d/5nfhb+65ga/98hfggHenb5vBHZOjky0AYD679dvXm4tfb4qz/kwM83eW177uQbziVX+Fxz/mAt6VW4YfNVhr8Wd/+QDatsP9V0/xO7//1/jPL/pfyLIKn/SC5+DTPun5Z32JzEi++wd+DS/7zT/Ds9/9ifjUT3ifs76cRyWDC5O8oLPN6eTWC5Mg0BACsJZaGRmGORu+/Gt/CtZa/KvP/3BIyfmJjxZe+/qreNYHfNVb/Frga3zqJ7w3/vUXfCQfjz9KePDaCv/um38WWkn8p697IaQUj/yH/h1kcGGyE3uTuJO3QAgBay34XsgwZ8OLX/JK/MKv/jGe9+wn49P4Te1RxRMfdwkv+rbPQNt2OF1l+Js33sDP/OIf4Id+/JV4yc/+Lr7961+IT/649z7ry2QG+Ndf85PYpiW+91s/De/+jMed9eU8ahlcmEShDwDIsuqW31NWDYyhhUtyi+pyhmH+7/EHr34DvuDLfwQXDif4wf/8z6AUvyE8mvA8hRf+rTqSb/zKj8OP/tRv4Uu/+iX451/6w3jXpz+WE33PMb/xW3+Bn/jp38HHffSz8akfzy8Gj4TBu9fSRc3fON7e8nuuXd/0/zdHJzPM25aybPDCz/oeFGWDb/7qT8Rj7zo860ti3gpEkY9/9snvi8/85PdF03R48UteedaXxOzha7+VQvD+3y/6B2d9KY96BndM7ryyBAC88b7jW37PG+49AkC7JctFctafiWH+ztB1Bp/5hd+Pv3njET79hc/Hx3/0s8/6kpi3Mh/y/u+Cb/svv4J79tyDmbMlyyu8wgUaPvdDv+aW3/fbv/c6HD75cyEE8JIXfS7e//nvdNaXfi4ZXJg8810eCwB4xe+8Fp/1aTfPt//VX38NAOB5z37SLUOfGIZ562Ktxed92Yvxk//zd/GCj3oPfMc3fDL/9/d2iLEGAPh47hwTBB7++ad/AMqyueX3vOhHfxMXD6f4yA9+JiCAx9194awv+9wyuDD5e899R0SRj5976R/hwWsr3HF58RZfP1llePFLfgsA8IKPes+z/jwM83cCay2+7Ktfgh/4sZfjwz/wGfjB7+C6kkcrRVEjivxbfv0Xf/XVAIBnvvNjz/pSmVuglcS3/LtP3Ps9L/rR38STnnAZ3/nvP+WsL/fcM3gnm00j/LMX/j2UVYN/8tnfi+OTtP/ajaMNPvmzvxfXjzZ43ns+CZ/0j55z1p+HYd7uSbMSn/CZ341v/6+/ivd7n6fhv/2Xz4HnDb5jMOeUJz37S/GZX/j9+OPXvPEtfv360QZf+Q3/Hd/zg7+GJA7wKR/PXTnM3w1G3c2++l//I/zuH/0NXvl//gpPevaX4jnPegdoJfGq3389tmmJj/qQZ+JHvvuz4Pt8czzPfNf3vwzf+aKX9f//ySoDALzyd/4KT3/vr+h//Xu/5dPwPs95yllfLnMLfvx//A5+9pf+AACNjLj7Xf7lTb9PSonf+qWvxJOewHHm55mnPeVOvPglv4UXv+S3cPcdSzzhcRex2Rb4y9ddRVk1mCQhfuS7/5+H7FYzzNsro1YSceTjV3/qX+H7fuQ38bO/9Ad4433H8DyF5z/nKfiEj3kO/vE/fE8+234UcOeVJd51xHbwjGesnGue8fTH4AUf+R6wA98npcB8Gp715TIDvPQlX4Jfftmr8fO/8sf4kz+/D/fef4Iw9PABf++d8LxnPwmf8DHPwV13LM/6MplHyId/4DPwzk+7+6wv41GBsDdJTjPVVTTHv3DW18YwDMMwzNsRMnoivOX77f+es75IhmEYhmGYHbwwYRiGYRjm3MALE4ZhGIZhzg28MGEYhmEY5tzACxOGYRiGYc4NvDBhGIZhGObcwAsThmEYhmHODbwwYRiGYRjm3MALE4ZhGIZhzg28MGEYhmEY5tzACxOGYRiGYc4NvDBhGIZhGObcwAsThmEYhmHODbwwYRiGYRjm3MALE4ZhGIZhzg28MGEYhmEY5tyg3xo/pKpbvPy3/xJ/8uf3IS9qvMPjL+HDP/AZmE2j/nv++8//Hp78xMt456fehV/+tT/BH7/mXoShh7//vHfEuz/j8QCAsmzwM7/4+3jdG67jsXcd4gUf9R5I4uCsHTEMwzAM8zZCWGvt3/5FU11Fc/wLo37Aa19/FR/zKd+O17/hOuazCJ6ncHSc4vBggp/8/s/F897zyQCAu9/lX+KjP+JZeN1fX8PLX/VaPP4xF/DAtRWKosY3fOXH4iM+6Jn4uM/4Trzh3iNcOJjgvgdO8cx3fix+4ce/CIfLyVl7YhiGYRjmESKjJ8Jbvt/+73kkf0DXGXzCZ34XTlYpfuy/fA7u/5P/hPte/Z/we//r3+JpT74DP/fSP3qL7/++F/8GHrh6it9/2b/Fn77y63HPH34LnvWuj8dXfdPP4ANf8O9xx+UF/vJV34jX/e5/wPd/+2fgj17zRnzPD/7aWXtkGIZhGOZtxCNamPzKr78Gf/aXD+BLP/8j8DEf8SxorQAA7/y0u/ErP/Wl+Mov/odv8f2PuesAL/3Jf4WnPvlOAMBsGuHLPv/DUdctnvyEy/jpH/4CXL44BwB80guei6c95U786q//6Vk7YhiGYRjmbcQjWpi88ndeCwD4+I9+r4f+YCkQR/5b/NoHv+87447Li7f4tae9410AgE/4mPdCGHhv8bWnPvkOPHhtddaOGIZhGIZ5G/GIFiYPXlvD8xSuXJo/7J8xSW5d3DqJAzRNd3Z2GIZhGIZ5m/LIakyMgRDirD8DwzAMwzBvJzyihcnFgynqusW1G+uz/hwMwzAMw7wd8IgWJu/xbk8AAPzET//OQ77WdgZXr/OChWEYhmGY8TyihclHfvAzceXyHN/wbT+P7/uR30BR1rDW4g9e/QZ8wMd8E77+P/7cWX8+hmEYhmEeRTyihUkSB/jR7/5sSCnxeV/2Ylx8x8/DHe/0L/C8D/tavPG+Y3ziP3rOWX8+hmEYhmEeRTziSPr3fq8n4/df9tX4vh/5dfzuH/4NhBB4n/d6Mj7nn34AppOw/77P+tT3wzPf+bEP+f2LWYzP+afvj2c98wkP+dqHfeAz8MTHXzprRwzDMAzDvI14xJH0DMMwDMMwY/i/HknPMAzDMAzz1oQXJgzDMAzDnBt4YcIwDMMwzLmBFyYMwzAMw5wbeGHCMAzDMMy5gRcmDMMwDMOcG3hhwjAMwzDMuYEXJgzDMAzDnBtuGrBmTQPbrs762hiGYRiGeXtCBpB6tvdbbrowYRiGYRiGOQv4KIdhGIZhmHMDL0wYhmEYhjk38MKEYRiGYZhzAy9MGIZhGIY5N/DChGEYhmGYcwMvTBiGYRiGOTf8/4TUKz9hBKnqAAAAAElFTkSuQmCC)\n",
        "\n",
        "Slika izvor: https://chem.libretexts.org/Courses/Saint_Francis_University/CHEM_113%3A_Human_Chemistry_I_(Muino)/01%3A_Matter_and_Measurements/1.08%3A_Measurement_and_Significant_Figures\n"
      ],
      "metadata": {
        "id": "Mm9bQR-_R9Rw"
      }
    },
    {
      "cell_type": "markdown",
      "source": [
        "# Zbrajanje značajnih znamenki\n",
        "\n",
        "Recimo da imamo dvije osobe - Ana i Bob - svatko sa svojim štapom. Ana ima metar koji može samo mjeriti centimetre i dobije da je njen štap dug 15.09m. Bob pak sa svojim metrom može razlučiti i milimetre te on dobije 11.216m. Koliko će biti dugi štapovi ako ih stavimo jedan do drugog?\n",
        "\n",
        "Odgovor je očito zbroj njihovih duljina, ali kako će se značajne znamenke ponašati pri zbrajanju?\n",
        "\n",
        "Kako znamo duljinu prvog štapa samo do na najbliži centimetar, i ukupnu duljinu ćemo znati samo do na najbliži centimetar. Dakle, zaokružit ćemo Bobov rezultat do na preciznost koja je dostupna Ani i zbrojiti:\n",
        "\n",
        "$$15.09\\text{m}+11.22\\text{m}=26.31\\text{m}$$"
      ],
      "metadata": {
        "id": "851AGyBpTV-w"
      }
    },
    {
      "cell_type": "markdown",
      "source": [
        "# Množenje značajnih znamenki\n",
        "\n",
        "Recimo da sada želimo izračunati površinu pravokutnika kojega razapinju Anin i Bobov štap. Koliko će površina imati značajnih znamenki?\n",
        "\n",
        "Ako pomnožimo izmjerene duljine, dobijemo $15.09\\cdot 11.216=169.24944$. Kako poznajemo samo 4 znamenke broja 15.09, isto tako u stvarnosti poznajemo samo prve 4 znamenke broja 169.24944, tj. zaokružujemo na $169.2$.\n",
        "\n",
        "Zaista:\n",
        "\n",
        "$$\n",
        "15.09\\cdot 11.216=15.09\\cdot 10+15.09\\cdot 1+15.09\\cdot 0.2+ 15.09\\cdot 0.01+15.09\\cdot 0.006\n",
        "$$\n",
        "\n",
        "Ali prvi član $15.09\\cdot 10=150.9$ je već nesiguran na prvoj decimali (desetine). Dakle, i rezultat mora biti nesiguran u prvoj decimali.\n"
      ],
      "metadata": {
        "id": "5i4Q98tfl3l9"
      }
    },
    {
      "cell_type": "markdown",
      "source": [
        "# Dodatak: Matematički izvod zbrajanja i množenja greške"
      ],
      "metadata": {
        "id": "WAcVsXDhAjpX"
      }
    },
    {
      "cell_type": "markdown",
      "source": [
        "Neka je stvarna vrijednost duljine Aninog štapa $15.09+\\varepsilon_A$, gdje je $\\varepsilon_A$ mala greškica (error), tj. razlika između stvarne vrijednosti i one koju Anin instrument može razlučiti.\n",
        "\n",
        "Isto tako neka je stvarna vrijednost duljine Bobovog štapa $11.216+\\varepsilon_B$.\n",
        "\n",
        "Onda je stvarna duljina $(15.09+\\varepsilon_A)+(11.216+\\varepsilon_B)=(15.09+11.216)+(\\varepsilon_A+\\varepsilon_B)$\n",
        "\n",
        "Dakle, greške se zbrajaju. Kada jedna greška dominira (u ovom slučaju Anina greška je cm, a Bobova je mm), onda koristimo onoliko značajnih znamenki koliko veća greška diktira (dvije decimale u ovom slučaju)."
      ],
      "metadata": {
        "id": "AdM_Y8lGmJiI"
      }
    },
    {
      "cell_type": "markdown",
      "source": [
        "\n",
        "\n",
        "---\n",
        "\n"
      ],
      "metadata": {
        "id": "39sHxxYpAynl"
      }
    },
    {
      "cell_type": "markdown",
      "source": [
        "Ukratko o distributivnosti:\n",
        "\n",
        "Primijetimo da vrijedi $17\\cdot 5=(10+7)\\cdot 5=10\\cdot 5+7\\cdot 5$. Riječima: sedamnaest petica je isto što i deset petica i još sedam petica.\n",
        "Općenito, za bilo koje brojeve $a$, $b$, $c$ imamo $a(b+c)=ab+ac$.\n",
        "Sada možemo ovo svojstvo primijeniti 2 puta da dobijemo $$(a+b)(c+d)=(a+b)c+(a+b)d=ac+bc+ad+bd$$\n",
        "Dvije zagrade množimo tako da pomnožimo \"svaki sa svakim\" (svaki iz prve zagrade sa svakim iz druge).\n"
      ],
      "metadata": {
        "id": "UDYKSWe7fP_P"
      }
    },
    {
      "cell_type": "markdown",
      "source": [
        "Ako je $15.09+\\varepsilon_A$ stvarna duljina Aninog štapa, onda relativna greška kaže koliki udio ukupne duljine pokriva greška $\\varepsilon_A$. Matematički, $r_A=\\frac{\\varepsilon_A}{15.09}$, tj. $\\varepsilon_A=15.09\\cdot r_A$\n",
        "\n",
        "\n",
        "Stvarna duljina Aninog štapa je onda $15.09+\\varepsilon_A=15.09\\cdot 1+15.09\\cdot r_A=15.09(1+r_A)$\n",
        "\n",
        "Na isti način zapišimo i stvarnu duljinu Bobovog štapa $11.216(1+r_B)$.\n",
        "\n",
        "Onda je stvarna površina:\n",
        "\n",
        "$$\n",
        "15.09(1+r_A) \\cdot 11.216(1+r_B)=(15.09\\cdot 11.216)\\cdot (1+r_A) (1+r_B)=168.46432\\cdot (1+r_B+r_A+r_Ar_B)\n",
        "$$\n",
        "\n",
        "Kako su relativne greške puno manje od 1, umnožak dva sitna broja je obično zanemariv (npr. $0.001\\cdot 0.001=0.000001$, tj. $\\frac{1}{1000}\\cdot \\frac{1}{1000}=\\frac{1}{1000000}$)\n",
        "\n",
        "Dakle, imamo da je stvarna duljina približno $168.46432\\cdot (1+r_B+r_A)$, tj. relativne greške se (približno) zbrajaju. Ako jedno mjerenje ima puno veću relativnu grešku od drugog - ta relativna greška će dominirati.\n"
      ],
      "metadata": {
        "id": "Dk0Yd0AUc0sy"
      }
    }
  ]
}