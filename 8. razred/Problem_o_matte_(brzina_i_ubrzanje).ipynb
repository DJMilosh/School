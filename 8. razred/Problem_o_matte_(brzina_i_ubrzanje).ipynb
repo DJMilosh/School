{
  "nbformat": 4,
  "nbformat_minor": 0,
  "metadata": {
    "colab": {
      "provenance": []
    },
    "kernelspec": {
      "name": "python3",
      "display_name": "Python 3"
    },
    "language_info": {
      "name": "python"
    }
  },
  "cells": [
    {
      "cell_type": "code",
      "source": [
        "#Pokreni jednom prije svega\n",
        "import random\n",
        "from IPython.display import display, Markdown, Latex"
      ],
      "metadata": {
        "id": "Qncx6VfNcMSH"
      },
      "execution_count": null,
      "outputs": []
    },
    {
      "cell_type": "markdown",
      "source": [
        "# Brzina"
      ],
      "metadata": {
        "id": "EDThJXNTYR7J"
      }
    },
    {
      "cell_type": "code",
      "source": [
        "#Pokreni me za novi zadatak\n",
        "\n",
        "mj_v=random.choice([\"m/s\", \"km/h\"])\n",
        "if mj_v==\"m/s\":\n",
        "  v=random.randint(1, 100)\n",
        "if mj_v==\"km/h\":\n",
        "  v=random.randint(5, 200)\n",
        "\n",
        "mj_x=random.choice([\"km\", \"m\"])\n",
        "mj_t=random.choice([\"h\", \"min\", \"s\"])\n",
        "\n",
        "#da bi se generirale suvisle vrijednosti treba ih malo kontrolirati\n",
        "if mj_t==\"h\" and mj_x==\"km\":\n",
        "  t_1=random.randint(0, 5)\n",
        "  t_2=random.randint(5, 10)\n",
        "  x_1=random.randint(0, 100)\n",
        "  x_2=random.randint(101, 300)\n",
        "\n",
        "if mj_t==\"h\" and mj_x==\"m\":\n",
        "  t_1=random.randint(0, 5)\n",
        "  t_2=random.randint(5, 10)\n",
        "  x_1=random.randint(500, 1000)\n",
        "  x_2=random.randint(1000, 5000)\n",
        "\n",
        "if mj_t==\"min\" and mj_x==\"km\":\n",
        "  t_1=random.randint(1, 60)\n",
        "  t_2=random.randint(100, 400)\n",
        "  x_1=random.randint(1, 10)\n",
        "  x_2=random.randint(20, 40)\n",
        "\n",
        "if mj_t==\"min\" and mj_x==\"m\":\n",
        "  t_1=random.randint(1, 60)\n",
        "  t_2=random.randint(100, 400)\n",
        "  x_1=random.randint(1, 1000)\n",
        "  x_2=random.randint(1001, 4000)\n",
        "\n",
        "if mj_t==\"s\" and mj_x==\"km\":\n",
        "  t_1=random.randint(1, 3600)\n",
        "  t_2=random.randint(4000, 10000)\n",
        "  x_1=random.randint(1, 50)\n",
        "  x_2=random.randint(51, 100)\n",
        "\n",
        "if mj_t==\"s\" and mj_x==\"m\":\n",
        "  t_1=random.randint(1, 30)\n",
        "  t_2=random.randint(40, 120)\n",
        "  x_1=random.randint(1, 100)\n",
        "  x_2=random.randint(200, 300)\n",
        "\n",
        "\n",
        "\n",
        "\n",
        "pronadji=random.choice([\"brzina1\", \"brzina2\", \"brzina3\", \"put1\", \"put2\", \"put3\", \"vrijeme\"])\n",
        "\n",
        "if pronadji==\"brzina1\":\n",
        "  text=\"Kolika je prosječna brzina tijela koje je prešlo udaljenost od $\" + str(abs(x_2-x_1)) + \"$\" + mj_x + \", a ukupno se gibalo $\" + str(t_2-t_1) + \"$\" + mj_t + \".\"\n",
        "if pronadji==\"brzina2\":\n",
        "  text=\"Kolika je prosječna brzina tijela koje se na početku gibanja nalazilo na udaljenosti $\" + str(x_1) + \"$\" + mj_x + \" a na kraju na $\" + str(x_2) + \"$\" + mj_x + \". Tijelo se ukupno gibalo $\" + str(t_2-t_1) + \"$\" + mj_t + \".\"\n",
        "if pronadji==\"brzina3\":\n",
        "  text=\"Kolika je prosječna brzina tijela koje se na početku gibanja nalazilo na udaljenosti $\" + str(x_1) + \"$\" + mj_x + \" a na kraju na $\" + str(x_2) + \"$\" + mj_x + \". Na početku gibanja štoperica pokazuje $\" + str(t_1) + \"$\" + mj_t + \", a na kraju gibanja $\" + str(t_2) + \"$\" + mj_t + \".\"\n",
        "if pronadji==\"put1\":\n",
        "  text=\"Koliki je put tijelo prešlo ako se gibalo brzinom od $\" + str(v) + \"$\" + mj_v + \" ukupno $\" + str(t_2-t_1) + \"$\" + mj_t + \".\"\n",
        "if pronadji==\"put2\":\n",
        "  text=\"Izračunaj položaj tijela koje se giba od nas brzinom od $\" + str(v) + \"$\" + mj_v + \". Na početku se tijelo nalazilo na udaljenosti od $\" + str(x_1) + \"$\" + str(mj_x) + \", a gibalo se $\" + str(t_2-t_1) + \"$\" + mj_t + \".\"\n",
        "if pronadji==\"put3\":\n",
        "  text=\"Izračunaj položaj tijela koje se giba prema nama brzinom od $\" + str(v) + \"$\" + mj_v + \". Na početku se tijelo nalazilo na udaljenosti od $\" + str(x_1) + \"$\" + str(mj_x) + \", a gibalo se $\" + str(t_2-t_1) + \"$\" + mj_t + \".\"\n",
        "if pronadji==\"vrijeme\":\n",
        "  text=\"Koliko dugo se tijelo gibalo ako je prešlo udaljenost od $\" + str(abs(x_2-x_1)) + \"$\" + str(mj_x) + \", a gibalo se brzinom od $\" + str(v) + \"$\" + mj_v + \".\"\n",
        "\n",
        "display(Markdown(text))\n"
      ],
      "metadata": {
        "colab": {
          "base_uri": "https://localhost:8080/",
          "height": 49
        },
        "id": "RDYB9miqZCPZ",
        "outputId": "b0ac5277-e677-4b42-ad3b-34c0cc093768"
      },
      "execution_count": null,
      "outputs": [
        {
          "output_type": "display_data",
          "data": {
            "text/plain": [
              "<IPython.core.display.Markdown object>"
            ],
            "text/markdown": "Izračunaj položaj tijela koje se giba od nas brzinom od $13$m/s. Na početku se tijelo nalazilo na udaljenosti od $87$m, a gibalo se $57$s."
          },
          "metadata": {}
        }
      ]
    },
    {
      "cell_type": "markdown",
      "source": [
        "# Akceleracija\n"
      ],
      "metadata": {
        "id": "SoB9FhIWlHxE"
      }
    },
    {
      "cell_type": "code",
      "source": [
        "#Pokreni me za novi zadatak\n",
        "\n",
        "\n",
        "mj_a=random.choice([\"m/s$^2$\", \"(km/h)/s\"])\n",
        "if mj_a==\"m/s$^2$\":\n",
        "  a=random.randint(1, 50)\n",
        "if mj_a==\"(km/h)/s\":\n",
        "  a=random.randint(1, 50)\n",
        "\n",
        "\n",
        "mj_v=random.choice([\"km/h\", \"m/s\"])\n",
        "mj_t=random.choice([\"h\", \"min\", \"s\"])\n",
        "\n",
        "#kontrola vrijednosti\n",
        "if mj_v==\"km/h\" and mj_t==\"h\":\n",
        "  t_1=random.randint(1, 5)\n",
        "  t_2=random.randint(5, 10)\n",
        "  v_1=random.randint(1, 50)\n",
        "  v_2=random.randint(100, 200)\n",
        "\n",
        "if mj_v==\"km/h\" and mj_t==\"min\":\n",
        "  t_1=random.randint(1, 10)\n",
        "  t_2=random.randint(11, 30)\n",
        "  v_1=random.randint(1, 50)\n",
        "  v_2=random.randint(51, 200)\n",
        "\n",
        "if mj_v==\"km/h\" and mj_t==\"s\":\n",
        "  t_1=random.randint(1, 60)\n",
        "  t_2=random.randint(61, 360)\n",
        "  v_1=random.randint(1, 50)\n",
        "  v_2=random.randint(100, 200)\n",
        "\n",
        "if mj_v==\"m/s\" and mj_t==\"h\":\n",
        "  t_1=random.randint(1, 5)\n",
        "  t_2=random.randint(5, 10)\n",
        "  v_1=random.randint(1, 50)\n",
        "  v_2=random.randint(51, 200)\n",
        "\n",
        "if mj_v==\"m/s\" and mj_t==\"min\":\n",
        "  t_1=random.randint(1, 10)\n",
        "  t_2=random.randint(11, 30)\n",
        "  v_1=random.randint(1, 50)\n",
        "  v_2=random.randint(51, 200)\n",
        "\n",
        "if mj_v==\"m/s\" and mj_t==\"s\":\n",
        "  t_1=random.randint(1, 60)\n",
        "  t_2=random.randint(61, 360)\n",
        "  v_1=random.randint(1, 50)\n",
        "  v_2=random.randint(51, 200)\n",
        "\n",
        "\n",
        "\n",
        "pronadji=random.choice([\"akceleracija1\", \"akceleracija2\", \"akceleracija3\", \"brzina1\", \"brzina2\", \"brzina3\", \"vrijeme\"])\n",
        "\n",
        "if pronadji==\"akceleracija1\":\n",
        "  text=\"Kolika je prosječna akceleracija tijela kojem se brzina promijenila za $\" + str(abs(v_2-v_1)) + \"$\" + mj_v + \", a ukupno je ubrzavalo $\" + str(t_2-t_1) + \"$\" + mj_t + \".\"\n",
        "if pronadji==\"akceleracija2\":\n",
        "  text=\"Kolika je prosječna akceleracija tijela koje se na početku giba brzinom $\" + str(v_1) + \"$\" + mj_v + \" a na kraju $\" + str(v_2) + \"$\" + mj_v + \". Tijelo je ukupno ubrzavalo $\" + str(t_2-t_1) + \"$\" + mj_t + \".\"\n",
        "if pronadji==\"akceleracija3\":\n",
        "  text=\"Kolika je prosječna akceleracija tijela koje se na početku gibalo brzinom $\" + str(v_1) + \"$\" + mj_v + \" a na kraju na $\" + str(v_2) + \"$\" + mj_v + \". Na početku gibanja štoperica pokazuje $\" + str(t_1) + \"$\" + mj_t + \", a na kraju gibanja $\" + str(t_2) + \"$\" + mj_t + \".\"\n",
        "if pronadji==\"brzina1\":\n",
        "  text=\"Kolika je brzina tijela ako ono ubrzava akceleracijom od $\" + str(a) + \"$\" + mj_a + \" ukupno $\" + str(t_2-t_1) + \"$\" + mj_t + \". Tijelo na početku miruje.\"\n",
        "if pronadji==\"brzina2\":\n",
        "  text=\"Izračunaj brzinu tijela koje ubrzava akceleracijom od $\" + str(a) + \"$\" + mj_a + \". Na početku se tijelo gibalo brzinom od $\" + str(v_1) + \"$\" + str(mj_v) + \", a ubrzavalo je $\" + str(t_2-t_1) + \"$\" + mj_t + \".\"\n",
        "if pronadji==\"brzina3\":\n",
        "  text=\"Izračunaj brzinu tijela koje usporava akceleracijom od $\" + str(a) + \"$\" + mj_a + \". Na početku se tijelo gibalo brzinom od $\" + str(v_1) + \"$\" + str(mj_v) + \", a usporavalo je $\" + str(t_2-t_1) + \"$\" + mj_t + \".\"\n",
        "if pronadji==\"vrijeme\":\n",
        "  text=\"Koliko dugo je tijelo ubrzavalo ako mu se brzina promijenila za $\" + str(abs(v_2-v_1)) + \"$\" + str(mj_v) + \", a ubrzavalo je akceleracijom od $\" + str(a) + \"$\" + mj_a + \".\"\n",
        "\n",
        "display(Markdown(text))"
      ],
      "metadata": {
        "colab": {
          "base_uri": "https://localhost:8080/",
          "height": 49
        },
        "id": "pJ3eCOATWC7u",
        "outputId": "67a3522d-985f-4e93-fd3a-92ebcc5c20fd"
      },
      "execution_count": null,
      "outputs": [
        {
          "output_type": "display_data",
          "data": {
            "text/plain": [
              "<IPython.core.display.Markdown object>"
            ],
            "text/markdown": "Izračunaj brzinu tijela koje ubrzava akceleracijom od $20$m/s$^2$. Na početku se tijelo gibalo brzinom od $12$m/s, a ubrzavalo je $1$h."
          },
          "metadata": {}
        }
      ]
    },
    {
      "cell_type": "markdown",
      "source": [
        "# Slobodni pad"
      ],
      "metadata": {
        "id": "MFIbZKZqZWSj"
      }
    },
    {
      "cell_type": "code",
      "source": [
        "#Pokreni me za novi zadatak\n",
        "\n",
        "planet=random.choice([\"Zemlji\", \"Mjesecu\", \"Merkuru\", \"Veneri\", \"Marsu\"])\n",
        "t=random.randint(1, 10)\n",
        "v_0=random.randint(0, 20)\n",
        "v=random.randint(20, 50)\n",
        "\n",
        "\n",
        "if planet==\"Zemlji\":\n",
        "  g=9.81\n",
        "if planet==\"Mjesecu\":\n",
        "  g=1.6\n",
        "if planet==\"Marsu\":\n",
        "  g=3.72\n",
        "if planet==\"Veneri\":\n",
        "  g=8.87\n",
        "if planet==\"Merkuru\":\n",
        "  g=3.7\n",
        "\n",
        "pronadji=random.choice([\"brzina1\", \"brzina2\", \"vrijeme\"])\n",
        "\n",
        "bacanje=random.choice([\"uvis\", \"prema tlu\"])\n",
        "\n",
        "if pronadji==\"brzina1\":\n",
        "  text=\"Kolikom se brzinom giba tijelo bačeno \" + bacanje + \" na \" + planet + \" ako je slobodno padalo \" + str(t) + \"s\" + \" i ako je bačeno početnom brzinom od \" + str(v_0) + \"m/s. Uzmi da je na \" + planet + \" $g=\" + str(g) + \"$N/kg i zanemari ikakav otpor zraka.\"\n",
        "\n",
        "if pronadji==\"brzina2\":\n",
        "  text=\"Kolikom početnom brzinom i u kojem smjeru (uvis ili prema tlu) ste na \" + planet + \" bacili tijelo koje se nakon \" + str(t) + \"s\" + \" gibalo \" + str(v) + \"m/s prema tlu. Uzmi da je na \" + planet + \" $g=\" + str(g) + \"$N/kg i zanemari ikakav otpor zraka.\"\n",
        "\n",
        "if pronadji==\"vrijeme\":\n",
        "  text=\"Koliko dugo tijelo slobodno pada ako je bačeno \" + bacanje + \" na \" + planet + \" brzinom od \" + str(v_0) + \"m/s i ako se u konačnici giba brzinom od \" + str(v) + \"m/s prema tlu. Uzmi da je na \" + planet + \" $g=\" + str(g) + \"$N/kg i zanemari ikakav otpor zraka.\"\n",
        "\n",
        "\n",
        "display(Markdown(text))\n"
      ],
      "metadata": {
        "colab": {
          "base_uri": "https://localhost:8080/",
          "height": 71
        },
        "id": "Gzd7mysYlqX9",
        "outputId": "795d3007-6f6d-41e9-8bfe-541761980a6f"
      },
      "execution_count": null,
      "outputs": [
        {
          "output_type": "display_data",
          "data": {
            "text/plain": [
              "<IPython.core.display.Markdown object>"
            ],
            "text/markdown": "Koliko dugo tijelo slobodno pada ako je bačeno prema tlu na Veneri brzinom od 5m/s i ako se u konačnici giba brzinom od 29m/s prema tlu. Uzmi da je na Veneri $g=8.87$N/kg i zanemari ikakav otpor zraka."
          },
          "metadata": {}
        }
      ]
    },
    {
      "cell_type": "markdown",
      "source": [
        "# Nacrtaj graf"
      ],
      "metadata": {
        "id": "a2tq1hbirHoO"
      }
    },
    {
      "cell_type": "code",
      "source": [
        "#Pokreni me za novi zadatak\n",
        "\n",
        "#broj ravnih (linearnih) segmenata na koje je graf podijeljen\n",
        "no_of_checkpoints=random.randint(3, 8)\n",
        "#najjednostavnije je samo raditi u standardnim jedinicama\n",
        "mj_t=\"s\"\n",
        "mj_x=\"m\"\n",
        "\n",
        "#početno vrijeme je uvijek 0, stoga i sampliramo jedno vrijeme manje\n",
        "t=random.sample(range(1,30), no_of_checkpoints-1)\n",
        "t=[0]+t\n",
        "t.sort() #treba nam vremenski niz pa sortamo vrijeme od najranijeg prema kasnijem\n",
        "\n",
        "#generiraj položaje i izračunaj brzine\n",
        "#olakotna je okolnost što iste varijable možemo iskoristiti i u tipu zadatka koji traži brzina-vrijeme\n",
        "#u tom slučaju samo uzmemo da je x brzina, a v akceleracija (x je osnovna veličina a v njena derivacija)\n",
        "x=[random.randint(0,20)] #početni položaj\n",
        "v=[]\n",
        "for i in range(1,no_of_checkpoints):\n",
        "  next=x[i-1]+random.randint(-20, 20)\n",
        "  x=x+[random.choice([x[i-1], next, next])] #1/3 vjerojatnost da ostane na mjestu, 2/3 da ode na novu vrijednost\n",
        "  v=v+[round((x[i]-x[i-1])/(t[i]-t[i-1]), 1)]\n",
        "\n",
        "\n",
        "tip=random.choice([\"udaljenost\", \"brzina\"])\n",
        "\n",
        "text=\"Nacrtaj graf \" + tip + \"-vrijeme za tijelo koje: \"\n",
        "\n",
        "if tip==\"udaljenost\":\n",
        "  text=text + \"\\n\" + \"1. se nalazi na početnoj udaljenosti od \" + str(x[0]) + \"m\"\n",
        "  for i in range(1, no_of_checkpoints):\n",
        "    text=text + \"\\n\" + str(i+1) + \". od \" + str(t[i-1]) +\"s do \" + str(t[i]) + \"s se giba brzinom od \" + str(v[i-1]) + \"m/s\"\n",
        "\n",
        "if tip==\"brzina\":\n",
        "  text=text + \"\\n\" + \"1. ima početnu brzinu \" + str(x[0]) + \"m/s\"\n",
        "  for i in range(1, no_of_checkpoints):\n",
        "    text=text + \"\\n\" + str(i+1) + \". od \" + str(t[i-1]) +\"s do \" + str(t[i]) + \"s se giba akceleracijom od \" + str(v[i-1]) + \"m/s$^2$\"\n",
        "\n",
        "\n",
        "display(Markdown(text))\n"
      ],
      "metadata": {
        "colab": {
          "base_uri": "https://localhost:8080/",
          "height": 147
        },
        "id": "947ZJytVrnoL",
        "outputId": "86208e1e-f721-40b8-c085-b795c308c268"
      },
      "execution_count": null,
      "outputs": [
        {
          "output_type": "display_data",
          "data": {
            "text/plain": [
              "<IPython.core.display.Markdown object>"
            ],
            "text/markdown": "Nacrtaj graf brzina-vrijeme za tijelo koje: \n1. ima početnu brzinu 18m/s\n2. od 0s do 13s se giba akceleracijom od -0.3m/s$^2$\n3. od 13s do 14s se giba akceleracijom od -9.0m/s$^2$\n4. od 14s do 15s se giba akceleracijom od -4.0m/s$^2$"
          },
          "metadata": {}
        }
      ]
    },
    {
      "cell_type": "code",
      "source": [
        "#rješenje:\n",
        "\n",
        "import matplotlib.pyplot as plt\n",
        "\n",
        "if tip==\"udaljenost\":\n",
        "  label=tip+\"/m\"\n",
        "if tip==\"brzina\":\n",
        "  label=tip+\"/m/s\"\n",
        "\n",
        "plt.plot(t, x)\n",
        "plt.scatter(t, x)\n",
        "plt.ylabel(label)\n",
        "plt.xlabel('vrijeme/s')\n",
        "plt.show()"
      ],
      "metadata": {
        "id": "S6MfMI4vH2di",
        "colab": {
          "base_uri": "https://localhost:8080/",
          "height": 449
        },
        "outputId": "d895f705-2db6-4493-b14a-fdb7348d20e6"
      },
      "execution_count": null,
      "outputs": [
        {
          "output_type": "display_data",
          "data": {
            "text/plain": [
              "<Figure size 640x480 with 1 Axes>"
            ],
            "image/png": "[encoded data removed]"
          },
          "metadata": {}
        }
      ]
    }
  ]
}