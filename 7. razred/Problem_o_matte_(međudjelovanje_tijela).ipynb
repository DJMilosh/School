{
  "nbformat": 4,
  "nbformat_minor": 0,
  "metadata": {
    "colab": {
      "provenance": []
    },
    "kernelspec": {
      "name": "python3",
      "display_name": "Python 3"
    },
    "language_info": {
      "name": "python"
    }
  },
  "cells": [
    {
      "cell_type": "code",
      "source": [
        "#Pokreni jednom prije svega\n",
        "import random\n",
        "from IPython.display import display, Markdown, Latex"
      ],
      "metadata": {
        "id": "Qncx6VfNcMSH"
      },
      "execution_count": null,
      "outputs": []
    },
    {
      "cell_type": "markdown",
      "source": [
        "# Opruga"
      ],
      "metadata": {
        "id": "EDThJXNTYR7J"
      }
    },
    {
      "cell_type": "code",
      "source": [
        "#Pokreni me za novi zadatak\n",
        "\n",
        "mjed1=random.choice([\"N/m\", \"N/cm\"])\n",
        "if mjed1==\"N/cm\":\n",
        "  k=random.randint(1, 10)\n",
        "if mjed1==\"N/m\":\n",
        "  k=random.randint(100, 1000)\n",
        "\n",
        "mjed2=random.choice([\"m\", \"cm\"])\n",
        "if mjed2==\"cm\":\n",
        "  delta_l=random.randint(1, 50)\n",
        "if mjed2==\"m\":\n",
        "  delta_l=random.uniform(0.01, 0.5)\n",
        "  delta_l=round(delta_l, 2)\n",
        "\n",
        "F_el=random.randint(1, 500)\n",
        "smjer=random.choice([\"prema\", \"od\"])\n",
        "\n",
        "\n",
        "pronadji=random.choice([\"konstanta\", \"produljenje\", \"sila\"])\n",
        "\n",
        "if pronadji==\"sila\":\n",
        "  text=\"Kolika sila produlji oprugu konstante elastičnosti $\" + str(k) + \"$\" + mjed1 + \" za \" + str(delta_l) + mjed2\n",
        "if pronadji==\"konstanta\":\n",
        "  text=\"Pronađi konstantu opruge koju sila od $\" + str(F_el) + \"$N\" + \" produlji za \" + \"$\" + str(delta_l) + \"$\" + mjed2\n",
        "if pronadji==\"produljenje\":\n",
        "  text=\"Za koliko se opruga konstante elastičnosti $\" + str(k) + \"$\" + mjed1 + \" produljila ako na nju djeluje sila od $\" + str(F_el) + \"$N\"\n",
        "\n",
        "display(Markdown(text))\n"
      ],
      "metadata": {
        "colab": {
          "base_uri": "https://localhost:8080/",
          "height": 49
        },
        "id": "RDYB9miqZCPZ",
        "outputId": "e48ac442-b274-465b-addf-9759917d495b"
      },
      "execution_count": null,
      "outputs": [
        {
          "output_type": "display_data",
          "data": {
            "text/plain": [
              "<IPython.core.display.Markdown object>"
            ],
            "text/markdown": "Za koliko se opruga konstante elastičnosti $2$N/cm produljila ako na nju djeluje sila od $267$N"
          },
          "metadata": {}
        }
      ]
    },
    {
      "cell_type": "markdown",
      "source": [
        "# Težina"
      ],
      "metadata": {
        "id": "SoB9FhIWlHxE"
      }
    },
    {
      "cell_type": "code",
      "source": [
        "#Pokreni me za novi zadatak\n",
        "\n",
        "planet=random.choice([\"Zemlji\", \"Mjesecu\", \"Merkuru\", \"Veneri\", \"Marsu\"])\n",
        "masa=random.randint(1, 150)\n",
        "\n",
        "if planet==\"Zemlji\":\n",
        "  g=9.81\n",
        "if planet==\"Mjesecu\":\n",
        "  g=1.6\n",
        "if planet==\"Marsu\":\n",
        "  g=3.72\n",
        "if planet==\"Veneri\":\n",
        "  g=8.87\n",
        "if planet==\"Merkuru\":\n",
        "  g=3.7\n",
        "\n",
        "text=\"Kolikom silom tijelo mase $\" + str(masa) + \"$kg\" \" pritišće podlogu na \" + planet + \"?\" + \" Uzmi da je na \" + planet + \" $g=\" + str(g) + \"$N/kg.\"\n",
        "display(Markdown(text))\n"
      ],
      "metadata": {
        "colab": {
          "base_uri": "https://localhost:8080/",
          "height": 50
        },
        "id": "Gzd7mysYlqX9",
        "outputId": "88f3ce97-36b4-4770-eb72-09f53e253f16"
      },
      "execution_count": null,
      "outputs": [
        {
          "output_type": "display_data",
          "data": {
            "text/plain": [
              "<IPython.core.display.Markdown object>"
            ],
            "text/markdown": "Kolikom silom tijelo mase $118$kg pritišće podlogu na Veneri? Uzmi da je na Veneri $g=8.87$N/kg."
          },
          "metadata": {}
        }
      ]
    },
    {
      "cell_type": "markdown",
      "source": [
        "# Opruga + težina"
      ],
      "metadata": {
        "id": "tMn7OWq_o2uF"
      }
    },
    {
      "cell_type": "code",
      "source": [
        "#Pokreni me za novi zadatak\n",
        "\n",
        "planet=random.choice([\"Zemlji\", \"Mjesecu\", \"Merkuru\", \"Veneri\", \"Marsu\"])\n",
        "masa=random.randint(1, 150)\n",
        "\n",
        "mjed=random.choice([\"N/m\", \"N/cm\"])\n",
        "if mjed==\"N/cm\":\n",
        "  k=random.randint(1, 10)\n",
        "if mjed==\"N/m\":\n",
        "  k=random.randint(100, 1000)\n",
        "\n",
        "if planet==\"Zemlji\":\n",
        "  g=9.81\n",
        "if planet==\"Mjesecu\":\n",
        "  g=1.6\n",
        "if planet==\"Marsu\":\n",
        "  g=3.72\n",
        "if planet==\"Veneri\":\n",
        "  g=8.87\n",
        "if planet==\"Merkuru\":\n",
        "  g=3.7\n",
        "\n",
        "text=\"Koliko će se opruga konstante elastičnosti $\" + str(k) + \"$\" + mjed + \" produljiti na \" + planet  + \" ako na nju ovjesimo tijelo mase $\" + str(masa) + \"$kg? Uzmi da je na \" + planet + \" $g=\" + str(g)+ \"$N/kg.\"\n",
        "display(Markdown(text))"
      ],
      "metadata": {
        "colab": {
          "base_uri": "https://localhost:8080/",
          "height": 68
        },
        "id": "pq2VCe6vo-ec",
        "outputId": "71e47ee9-02ec-4c7c-9101-d6c0e9667fd6"
      },
      "execution_count": null,
      "outputs": [
        {
          "output_type": "display_data",
          "data": {
            "text/plain": [
              "<IPython.core.display.Markdown object>"
            ],
            "text/markdown": "Koliko će se opruga konstante elastičnosti $917$N/m produljiti na Zemlji ako na nju ovjesimo tijelo mase $23$kg? Uzmi da je na Zemlji $g=9.81$N/kg."
          },
          "metadata": {}
        }
      ]
    },
    {
      "cell_type": "markdown",
      "source": [
        "# Trenje"
      ],
      "metadata": {
        "id": "a2tq1hbirHoO"
      }
    },
    {
      "cell_type": "code",
      "source": [
        "#Pokreni me za novi zadatak\n",
        "\n",
        "masa=random.randint(20, 500)\n",
        "mu=random.uniform(0.01, 1)\n",
        "mu=round(mu, 2)\n",
        "F_tr=random.randint(100, 2000)\n",
        "\n",
        "#čisto da nije svaki put ista rečenica\n",
        "glagol1=random.choice([\"gurati\", \"povlačiti\"])\n",
        "glagol2=random.choice([\"guramo\", \"povlačimo\"])\n",
        "\n",
        "pronadji=random.choice([\"tezina\", \"faktor_trenja\", \"sila\"])\n",
        "\n",
        "if pronadji==\"sila\":\n",
        "  text=\"Kolikom silom moramo \" + glagol1 + \" teret mase $\" + str(masa) + \"$kg\"+\" da bi se on gibao jednoliko po horizontalnoj podlozi ako je faktor trenja između tereta i podloge \" + str(mu) + \"?\"\n",
        "if pronadji==\"faktor_trenja\":\n",
        "  text=\"Koliki je faktor trenja između tereta mase $\" + str(masa) + \"$kg i horizontalne podloge na kojoj se teret nalazi ako teret \" + glagol2 + \" jednoliko silom od $\" + str(F_tr) + \"$N?\"\n",
        "if pronadji==\"tezina\":\n",
        "  text=\"Kolika je težina tereta koje povlačimo jednoliko po horizontalnoj podlozi silom od $\" + str(F_tr) + \"$N\"+\" ako je faktor trenja između tereta i podloge $\" + str(mu) + \"$? Kolika je onda masa tereta ako se nalazimo na Zemlji, gdje možemo uzeti da $g=10$N/kg?\"\n",
        "\n",
        "display(Markdown(text))\n",
        "\n"
      ],
      "metadata": {
        "colab": {
          "base_uri": "https://localhost:8080/",
          "height": 71
        },
        "id": "947ZJytVrnoL",
        "outputId": "8de44773-d281-4d5c-8062-30e30eb5335a"
      },
      "execution_count": null,
      "outputs": [
        {
          "output_type": "display_data",
          "data": {
            "text/plain": [
              "<IPython.core.display.Markdown object>"
            ],
            "text/markdown": "Kolika je težina tereta koje povlačimo jednoliko po horizontalnoj podlozi silom od $360$N ako je faktor trenja između tereta i podloge $0.68$? Kolika je onda masa tereta ako se nalazimo na Zemlji, gdje možemo uzeti da $g=10$N/kg?"
          },
          "metadata": {}
        }
      ]
    },
    {
      "cell_type": "markdown",
      "source": [
        "# Tlak"
      ],
      "metadata": {
        "id": "bkL0HtgXxxFr"
      }
    },
    {
      "cell_type": "markdown",
      "source": [
        "Kod pretvaranja mjernih jedinica pripazi!\n",
        "\n",
        "1m ima 100cm u sebi pa 1m$^2$ ima $$1m^2=1m\\cdot 1m=100cm\\cdot 100cm=10000cm^2.$$\n",
        "\n",
        "2m$^2$ bi onda imala:\n",
        "$$2\\cdot m^2=2\\cdot 10000cm^2=20000cm^2.$$\n",
        "\n",
        "\n",
        "\n",
        "Slikovitije, ovaj rezultat možemo izvesti i na sljedeći način. 1m$^2$ je kvadrat dimenzije (širina $\\times$ dužina) 1m $\\times$ 1m, a 1cm$^2$ kvadratić dimenzije 1cm $\\times$ 1cm. Krenimo sada od gornjeg desnog ruba kvadrata 1m$^2$ i popločajmo ga kvadratićima od 1cm$^2$. U svakom redu će biti 100 kvadratića od 1cm$^2$ jer stane 100cm u 1m (a kvadrat je dug 1m). Ipak, kada popločamo jedan red nismo popločali cijeli kvadrat. Trebamo popločati i ostale redove. Kako je kvadrat i širok 1m, redova će isto biti 100. Dakle, ukupno imamo 100 kvadratića u svakom od 100 redova pa je ukupni broj kvadratića od 1cm$^2$ koji je potreban da popločamo 1m$^2$ dan s: $$100\\times 100=10000$$\n",
        "\n",
        "2m$^2$ su pak samo 2 kvadrata dimenzija m $\\times$ m, stoga sadrže ukupno $2\\times 10000=20000$ kvadratića od 1cm$^2$"
      ],
      "metadata": {
        "id": "P5Kr1UDj_hBI"
      }
    },
    {
      "cell_type": "markdown",
      "source": [
        "Obratno, 1cm$^2$ je 10 000-ti dio od 1m$^2$. Dakle:\n",
        "\n",
        "$$1cm^2=\\frac{1}{10000}$$\n",
        "\n",
        "Ako imamo 200cm$^2$, onda je to 200 od ukupno 10000 komadića potrebnih da popunimo 1m$^2$, stoga\n",
        "\n",
        "$$200cm^2=\\frac{200}{10000}=\\frac{2}{100}=0.02$$"
      ],
      "metadata": {
        "id": "sRNVymWEDAe-"
      }
    },
    {
      "cell_type": "code",
      "source": [
        "#Pokreni me za novi zadatak\n",
        "\n",
        "mjed1=random.choice([\"m$^2$\", \"cm$^2$\"])\n",
        "if mjed1==\"m$^2$\":\n",
        "  A=random.randint(1, 10)\n",
        "if mjed1==\"cm$^2$\":\n",
        "  A=random.randint(100, 1000)\n",
        "\n",
        "mjed2=random.choice([\"Pa\", \"N/cm$^2$\"])\n",
        "if mjed2==\"Pa\":\n",
        "  P=random.randint(10000, 50000)\n",
        "if mjed2==\"N/cm$^2$\":\n",
        "  P=random.randint(1, 500)\n",
        "\n",
        "masa=random.randint(10, 200)\n",
        "\n",
        "pronadji=random.choice([\"sila\", \"tlak\", \"povrsina\"])\n",
        "\n",
        "if pronadji==\"sila\":\n",
        "  text=\"Kolikom silom tijelo površine $\" + str(A) + \"$\" + mjed1 + \" pritišće podlogu ako je tlak kojim djeluje na podlogu $\" + str(P) + \"$\" + mjed2 + \"?\"\n",
        "if pronadji==\"tlak\":\n",
        "  text=\"Kolikim tlakom tijelo mase $\" + str(masa) + \"$kg tlači podlogu ako je dodirna površina između tijela i podloge \" + str(A) + mjed1 + \"?\"\n",
        "if pronadji==\"povrsina\":\n",
        "  text=\"Kolika je dodirna površina između tijela mase $\" + str(masa) + \"$kg i podloge ako je tlak kojim tijelo tlači podlogu $\" + str(P) + \"$\" + mjed2 + \"?\"\n",
        "\n",
        "display(Markdown(text))"
      ],
      "metadata": {
        "colab": {
          "base_uri": "https://localhost:8080/",
          "height": 49
        },
        "id": "oVK1xIA7zNzZ",
        "outputId": "b7c24258-1762-4cd5-ee1e-8ec7d623dfb4"
      },
      "execution_count": null,
      "outputs": [
        {
          "output_type": "display_data",
          "data": {
            "text/plain": [
              "<IPython.core.display.Markdown object>"
            ],
            "text/markdown": "Kolika je dodirna površina između tijela mase $44$kg i podloge ako je tlak kojim tijelo tlači podlogu $386$N/cm$^2$?"
          },
          "metadata": {}
        }
      ]
    }
  ]
}